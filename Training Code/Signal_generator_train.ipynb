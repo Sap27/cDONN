{
 "cells": [
  {
   "cell_type": "markdown",
   "metadata": {},
   "source": [
    "# Importing necessary libraries"
   ]
  },
  {
   "cell_type": "code",
   "execution_count": 1,
   "metadata": {},
   "outputs": [],
   "source": [
    "import tensorflow as tf\n",
    "#from tensorflow.keras import layers\n",
    "#from tensorflow.keras import models\n",
    "from tensorflow.keras.layers import Dense, Flatten, LSTM,Dropout,Conv2D,TimeDistributed\n",
    "from tensorflow.keras.models import Sequential\n",
    "from keras.layers import Conv1D, MaxPooling1D, Flatten, Dense, LSTM, TimeDistributed, Dropout\n",
    "import matplotlib.pyplot as plt\n",
    "import numpy as np\n",
    "from tensorflow.keras.layers import (Conv2D, TimeDistributed, MaxPooling2D,\n",
    "                                     MaxPooling3D, AveragePooling2D, Conv2DTranspose, UpSampling2D,\n",
    "                                     BatchNormalization,\n",
    "                                     Dense, Flatten, Reshape,Dropout)"
   ]
  },
  {
   "cell_type": "markdown",
   "metadata": {},
   "source": [
    "**Data preprocessing**"
   ]
  },
  {
   "cell_type": "code",
   "execution_count": 2,
   "metadata": {},
   "outputs": [],
   "source": [
    "def ramp_classifier_output(labels,n=10):\n",
    "    ramp_out=np.zeros((labels.shape[0],32,n))\n",
    "    ramp=np.linspace(0,2,32)\n",
    "\n",
    "    for i in range(labels.shape[0]):\n",
    "        ramp_out[i,:,int(labels[i])]=ramp\n",
    "    return ramp_out\n",
    "    "
   ]
  },
  {
   "cell_type": "code",
   "execution_count": 3,
   "metadata": {},
   "outputs": [],
   "source": [
    "def cross_entropy_output(labels,n=10):\n",
    "    cross_entropy_out=np.zeros((labels.shape[0],32,n))\n",
    "    ce=np.ones(32)\n",
    "\n",
    "    for i in range(labels.shape[0]):\n",
    "        cross_entropy_out[i,:,int(labels[i])]=ce\n",
    "    return cross_entropy_out"
   ]
  },
  {
   "cell_type": "code",
   "execution_count": 4,
   "metadata": {},
   "outputs": [],
   "source": [
    "import tensorflow as tf\n",
    "\n",
    "def cross_entropy_output_tf(labels, n=10):\n",
    "    # Create a tensor of zeros with the desired shape\n",
    "    cross_entropy_out = tf.zeros((tf.shape(labels)[0], 32, n), dtype=tf.float32)\n",
    "    \n",
    "    # Create a tensor of ones with shape (32,) (equivalent to np.ones(32))\n",
    "    ce = tf.ones((32,), dtype=tf.float32)\n",
    "\n",
    "    # Loop through each label and set the cross-entropy output\n",
    "    for i in range(tf.shape(labels)[0]):\n",
    "        cross_entropy_out = cross_entropy_out[i].assign(tf.tensor_scatter_nd_update(\n",
    "            cross_entropy_out[i], [[i, int(labels[i])]], [ce]))\n",
    "\n",
    "    return cross_entropy_out\n"
   ]
  },
  {
   "cell_type": "code",
   "execution_count": 5,
   "metadata": {},
   "outputs": [],
   "source": [
    "import tensorflow as tf\n",
    "\n",
    "def cross_entropy_output_tf(labels, n=10):\n",
    "    # Create a tensor of zeros with the desired shape\n",
    "    cross_entropy_out = tf.zeros((tf.shape(labels)[0], 32, n), dtype=tf.float32)\n",
    "\n",
    "    # Create a tensor of ones with shape (32,) (equivalent to np.ones(32))\n",
    "    ce = tf.ones((32,), dtype=tf.float32)\n",
    "\n",
    "    # Create indices for where to place the ones\n",
    "    indices = []\n",
    "    updates = []\n",
    "\n",
    "    for i in range(tf.shape(labels)[0]):\n",
    "        indices.append([i, int(labels[i])])  # Append the indices where ones should be placed\n",
    "        updates.append(ce)  # Append the values to be placed\n",
    "\n",
    "    # Convert lists to tensors\n",
    "    indices = tf.convert_to_tensor(indices, dtype=tf.int32)\n",
    "    updates = tf.convert_to_tensor(updates, dtype=tf.float32)\n",
    "\n",
    "    # Use tensor_scatter_nd_update to place ones at the desired positions\n",
    "    cross_entropy_out = tf.tensor_scatter_nd_update(cross_entropy_out, indices, updates)\n",
    "\n",
    "    return cross_entropy_out\n"
   ]
  },
  {
   "cell_type": "code",
   "execution_count": 6,
   "metadata": {},
   "outputs": [
    {
     "name": "stdout",
     "output_type": "stream",
     "text": [
      "Num GPUs Available:  0\n"
     ]
    }
   ],
   "source": [
    "import tensorflow as tf\n",
    "print(\"Num GPUs Available: \", len(tf.config.experimental.list_physical_devices('GPU')))\n"
   ]
  },
  {
   "cell_type": "code",
   "execution_count": null,
   "metadata": {},
   "outputs": [],
   "source": []
  },
  {
   "cell_type": "markdown",
   "metadata": {},
   "source": [
    "Loading necessary data"
   ]
  },
  {
   "cell_type": "code",
   "execution_count": 7,
   "metadata": {},
   "outputs": [],
   "source": [
    "X_train=np.load('X_trn_img.npy')\n",
    "X_test=np.load('X_test_img.npy')"
   ]
  },
  {
   "cell_type": "code",
   "execution_count": 8,
   "metadata": {},
   "outputs": [
    {
     "data": {
      "text/plain": [
       "(1000, 32, 20, 20)"
      ]
     },
     "execution_count": 8,
     "metadata": {},
     "output_type": "execute_result"
    }
   ],
   "source": [
    "X_test.shape"
   ]
  },
  {
   "cell_type": "code",
   "execution_count": 9,
   "metadata": {},
   "outputs": [],
   "source": [
    "X_test=[X_test[10*i] for i in range(0, int(X_test.shape[0]/10))]\n",
    "X_test=np.array(X_test)"
   ]
  },
  {
   "cell_type": "code",
   "execution_count": 10,
   "metadata": {},
   "outputs": [
    {
     "data": {
      "text/plain": [
       "(100, 32, 20, 20)"
      ]
     },
     "execution_count": 10,
     "metadata": {},
     "output_type": "execute_result"
    }
   ],
   "source": [
    "X_test.shape"
   ]
  },
  {
   "cell_type": "code",
   "execution_count": 11,
   "metadata": {},
   "outputs": [],
   "source": [
    "X_test_img=[]\n",
    "for i in range(100):\n",
    "    for j in range(54):\n",
    "        X_test_img.append(X_test[i])\n",
    "X_test_img=np.array(X_test_img)"
   ]
  },
  {
   "cell_type": "code",
   "execution_count": 13,
   "metadata": {},
   "outputs": [],
   "source": [
    "np.save(\"X_test_img_5400.npy\",X_test_img)"
   ]
  },
  {
   "cell_type": "code",
   "execution_count": 14,
   "metadata": {},
   "outputs": [
    {
     "data": {
      "text/plain": [
       "(5400, 32, 20, 20)"
      ]
     },
     "execution_count": 14,
     "metadata": {},
     "output_type": "execute_result"
    }
   ],
   "source": [
    "X_test_img.shape"
   ]
  },
  {
   "cell_type": "code",
   "execution_count": 15,
   "metadata": {},
   "outputs": [
    {
     "data": {
      "text/plain": [
       "<matplotlib.image.AxesImage at 0x26852fc9250>"
      ]
     },
     "execution_count": 15,
     "metadata": {},
     "output_type": "execute_result"
    },
    {
     "data": {
      "image/png": "[encoded data removed]",
      "text/plain": [
       "<Figure size 640x480 with 1 Axes>"
      ]
     },
     "metadata": {},
     "output_type": "display_data"
    }
   ],
   "source": [
    "plt.imshow(X_test_img[5050][0], cmap='gray')"
   ]
  },
  {
   "cell_type": "code",
   "execution_count": 12,
   "metadata": {},
   "outputs": [
    {
     "name": "stdout",
     "output_type": "stream",
     "text": [
      "(40000, 32, 14, 1)\n",
      "(40000, 32, 14)\n",
      "(40000, 32)\n",
      "(5400, 32, 1)\n"
     ]
    },
    {
     "data": {
      "text/plain": [
       "'eeg_data_normalized = np.zeros_like(eeg_data)\\n\\nfor i in range(eeg_data.shape[0]):\\n    eeg_data_normalized[i, :] = scaler.fit_transform(eeg_data[i, :].reshape(-1, 1)).reshape(-1)\\n\\n\\nprint(eeg_data_normalized.shape)'"
      ]
     },
     "execution_count": 12,
     "metadata": {},
     "output_type": "execute_result"
    }
   ],
   "source": [
    "y_train=np.load('X_eeg_train.npy')\n",
    "y_test=np.load('X_eeg_test.npy')\n",
    "y_test=np.load(\"../data_for_ogan/X_eeg_test.npy\")\n",
    "\n",
    "y_train = np.moveaxis(y_train, 1, 2)\n",
    "y_test=np.moveaxis(y_test,1,2)\n",
    "print(y_train.shape)\n",
    "from sklearn.preprocessing import StandardScaler\n",
    "scaler = StandardScaler()\n",
    "y_train = scaler.fit_transform(y_train.reshape(-1, y_train.shape[-1])).reshape(y_train.shape)\n",
    "y_test = scaler.fit_transform(y_test.reshape(-1, y_test.shape[-1])).reshape(y_test.shape)\n",
    "\n",
    "squeezed_data = np.squeeze(y_train, axis=-1)\n",
    "squeezed_data1 = np.squeeze(y_test, axis=-1)\n",
    "\n",
    "print(squeezed_data.shape)\n",
    "#eeg_data= squeezed_data\n",
    "main_EEG = squeezed_data[:, :, 6]  # 6 ,7 o1,o2\n",
    "print(main_EEG.shape)\n",
    "y_train1=main_EEG\n",
    "y_test1=squeezed_data1[:,:,6]\n",
    "y_train1=np.expand_dims(y_train1,axis=-1)\n",
    "y_test1=np.expand_dims(y_test1,axis=-1)\n",
    "print(y_test1.shape)\n",
    "\n",
    "\n",
    "\n",
    "\"\"\"eeg_data_normalized = np.zeros_like(eeg_data)\n",
    "\n",
    "for i in range(eeg_data.shape[0]):\n",
    "    eeg_data_normalized[i, :] = scaler.fit_transform(eeg_data[i, :].reshape(-1, 1)).reshape(-1)\n",
    "\n",
    "\n",
    "print(eeg_data_normalized.shape)\"\"\"\n",
    "\n"
   ]
  },
  {
   "cell_type": "code",
   "execution_count": 31,
   "metadata": {},
   "outputs": [
    {
     "data": {
      "text/plain": [
       "\"y_test_classify=np.load('Y_test_labels.npy')\\ny_train_labels_filtered=y_train\""
      ]
     },
     "execution_count": 31,
     "metadata": {},
     "output_type": "execute_result"
    }
   ],
   "source": [
    "y_train_labels=np.load('Y_train_labels.npy')\n",
    "\"\"\"y_test_classify=np.load('Y_test_labels.npy')\n",
    "y_train_labels_filtered=y_train\"\"\""
   ]
  },
  {
   "cell_type": "code",
   "execution_count": 32,
   "metadata": {},
   "outputs": [],
   "source": [
    "y_test_labels=np.load(\"../data_for_ogan/Y_test_labels.npy\")"
   ]
  },
  {
   "cell_type": "code",
   "execution_count": 33,
   "metadata": {},
   "outputs": [
    {
     "data": {
      "text/plain": [
       "np.float64(540.0)"
      ]
     },
     "execution_count": 33,
     "metadata": {},
     "output_type": "execute_result"
    }
   ],
   "source": [
    "y_test_labels[540:1080].sum()"
   ]
  },
  {
   "cell_type": "code",
   "execution_count": 34,
   "metadata": {},
   "outputs": [],
   "source": [
    "y_test_classify=ramp_classifier_output(y_test_labels)"
   ]
  },
  {
   "cell_type": "code",
   "execution_count": 35,
   "metadata": {},
   "outputs": [],
   "source": [
    "#y_test_classify.shape"
   ]
  },
  {
   "cell_type": "code",
   "execution_count": 36,
   "metadata": {},
   "outputs": [],
   "source": [
    "#y_test_signals=np.load(\"../data_for_ogan/X_eeg_test.npy\")"
   ]
  },
  {
   "cell_type": "code",
   "execution_count": 37,
   "metadata": {},
   "outputs": [],
   "source": [
    "#y_test.shape"
   ]
  },
  {
   "cell_type": "code",
   "execution_count": 38,
   "metadata": {},
   "outputs": [],
   "source": [
    "#y_test_signals.shape"
   ]
  },
  {
   "cell_type": "code",
   "execution_count": 39,
   "metadata": {},
   "outputs": [],
   "source": [
    "y_train_classify=ramp_classifier_output(y_train_labels,n=10)\n",
    "#y_test_classify=ramp_classifier_output(y_test_labels,n=10)\n",
    "\n",
    "#y_train_gen=ramp_classifier_output(9*np.ones(100),n=10)"
   ]
  },
  {
   "cell_type": "code",
   "execution_count": 40,
   "metadata": {},
   "outputs": [],
   "source": [
    "#y_train_classify_ce=cross_entropy_output(y_train_labels,n=10)\n",
    "#y_test_classify_ce=cross_entropy_output(y_test_labels,n=10)\n",
    "\n",
    "#y_train_gen_ce=cross_entropy_output(9*np.ones(100),n=10)"
   ]
  },
  {
   "cell_type": "code",
   "execution_count": 28,
   "metadata": {},
   "outputs": [
    {
     "data": {
      "text/plain": [
       "'X_train = X_train.reshape(X_train.shape[0], 32, 400)\\nX_test = X_test.reshape(X_test.shape[0], 32, 400)'"
      ]
     },
     "execution_count": 28,
     "metadata": {},
     "output_type": "execute_result"
    }
   ],
   "source": [
    "\"\"\"X_train = X_train.reshape(X_train.shape[0], 32, 400)\n",
    "X_test = X_test.reshape(X_test.shape[0], 32, 400)\"\"\"\n"
   ]
  },
  {
   "cell_type": "code",
   "execution_count": 29,
   "metadata": {},
   "outputs": [],
   "source": [
    "y_train_all=np.squeeze(y_train)"
   ]
  },
  {
   "cell_type": "code",
   "execution_count": 30,
   "metadata": {},
   "outputs": [
    {
     "data": {
      "text/plain": [
       "(40000, 32, 14)"
      ]
     },
     "execution_count": 30,
     "metadata": {},
     "output_type": "execute_result"
    }
   ],
   "source": [
    "y_train_all.shape"
   ]
  },
  {
   "cell_type": "markdown",
   "metadata": {},
   "source": [
    "Additional helper data"
   ]
  },
  {
   "cell_type": "code",
   "execution_count": 41,
   "metadata": {},
   "outputs": [],
   "source": [
    "#X_autoencoder=X_autoencoder.reshape(X_autoencoder.shape[0], 32, 400)\n",
    "\n",
    "X_autoencoder=[]\n",
    "import cv2\n",
    "letters=['A','C','F','H','J','M','P','S','T','Y']\n",
    "letters_small=['a','c','f','h','j','m','p','s','t','y']\n",
    "\n",
    "root_folder='../data_for_OGAN/images/'\n",
    "for i in range(len(letters)):\n",
    "    curr_folder=f'{root_folder}{letters[i]}/{letters_small[i]} ('\n",
    "    for j in range(20):\n",
    "        img_path=f'{curr_folder}{j+1}).png'\n",
    "        #print(img_path)\n",
    "        image = cv2.imread(img_path)\n",
    "        #print(image)\n",
    "        resized_image = cv2.resize(image, (20, 20))\n",
    "        gray_image = cv2.cvtColor(resized_image, cv2.COLOR_BGR2GRAY)\n",
    "        X_autoencoder.append(np.stack([gray_image] * 32, axis=0))\n",
    "\n",
    "\n",
    "X_autoencoder=np.array(X_autoencoder)\n",
    "X_autoencoder=X_autoencoder.reshape(X_autoencoder.shape[0], 32, 400)\n",
    "y_autoencoder=[0 for i in range(20)]+[1 for i in range(20)]+[2 for i in range(20)]+[3 for i in range(20)]+[4 for i in range(20)]+[5 for i in range(20)]+[6 for i in range(20)]+[7 for i in range(20)]+[8 for i in range(20)]+[9 for i in range(20)]\n",
    "\n",
    "y_autoencoder=np.array(y_autoencoder)\n",
    "y_autoencoder=ramp_classifier_output(y_autoencoder,n=10)\n"
   ]
  },
  {
   "cell_type": "code",
   "execution_count": 13,
   "metadata": {},
   "outputs": [],
   "source": [
    "#main_classifier\n",
    "@tf.function\n",
    "def real_cal(r, phi):\n",
    "    return r * tf.math.cos(phi)\n",
    "\n",
    "@tf.function\n",
    "def imag_cal(r, phi):\n",
    "    return r * tf.math.sin(phi)\n",
    "\n",
    "@tf.function\n",
    "def oscillator_loop(X_r, X_i, omegas, num_steps):\n",
    "    # batch_size x timesteps X dim\n",
    "    r_arr = tf.TensorArray(dtype=tf.float32, size=0, dynamic_size=True) # creates empty array to save r_t\n",
    "    phi_arr = tf.TensorArray(dtype=tf.float32, size=0, dynamic_size=True)\n",
    "    r_t = tf.ones((tf.shape(X_r)[0], tf.shape(X_r)[-1])) # Initializing r_t\n",
    "    phis = tf.zeros((tf.shape(X_r)[0], tf.shape(X_r)[-1])) # Initislizing phi_t\n",
    "    dt = 1/128\n",
    "    input_scaler = 2\n",
    "    beta=1\n",
    "\n",
    "    for t in tf.range(num_steps):\n",
    "        input_r = input_scaler*X_r[:,t,:]*tf.math.cos(phis)\n",
    "        input_phi = input_scaler*X_i[:,t,:]*tf.math.sin(phis)\n",
    "        r_t = r_t + ((1 - beta*tf.square(r_t)) * r_t + input_r) * dt\n",
    "        phis = phis + (omegas - input_phi) * dt\n",
    "        r_arr = r_arr.write(r_arr.size(), r_t)  #1000,1,2\n",
    "        phi_arr = phi_arr.write(phi_arr.size(), phis)\n",
    "    r_arr = tf.transpose(r_arr.stack(), [1, 0, 2])  # Changing dimensions to 1,1000,2\n",
    "    phi_arr = tf.transpose(phi_arr.stack(), [1, 0, 2])\n",
    "    return r_arr, phi_arr\n",
    "\n",
    "class Hopf(tf.keras.layers.Layer):\n",
    "\n",
    "    def __init__(self, units, num_steps, min_omega=0.1,\n",
    "                 max_omega=64.1,train_omegas=True, **kwargs):\n",
    "        super(Hopf, self).__init__(**kwargs)\n",
    "        self.units = units\n",
    "        self.num_steps = num_steps\n",
    "        self.train_omegas=train_omegas\n",
    "        self.max_omega=max_omega\n",
    "        self.min_omega=min_omega\n",
    "        # self.omegas = tf.linspace(min_omega, max_omega, self.units) * (2*3.1415)\n",
    "        # self.omegas = tf.cast(tf.expand_dims(self.omegas, 0), 'float32')\n",
    "\n",
    "        omega_init=tf.random.uniform((1,self.units),-1,1)\n",
    "        self.omegas=tf.Variable(omega_init,trainable=self.train_omegas)\n",
    "\n",
    "    def call(self, X_r, X_i):\n",
    "        omega_intl = self.max_omega - self.min_omega\n",
    "        omega_inp = tf.sigmoid(0.5*self.omegas) * omega_intl + self.min_omega\n",
    "\n",
    "\n",
    "        r, phi = oscillator_loop(X_r, X_i, omega_inp , self.num_steps)\n",
    "        z_real = real_cal(r, phi)\n",
    "        z_imag = imag_cal(r, phi)\n",
    "        return z_real, z_imag\n",
    "\n",
    "\n",
    "duration = 32\n"
   ]
  },
  {
   "cell_type": "code",
   "execution_count": 43,
   "metadata": {},
   "outputs": [],
   "source": [
    "class Model_classifier(tf.keras.Model):\n",
    "    def __init__(self, units1, units2,units21,units22,units23, units3,units4,  units5, units7, units6,  **kwargs):\n",
    "        super(Model_classifier, self).__init__(**kwargs)\n",
    "\n",
    "        self.d1=tf.keras.layers.Dense(units1, activation='relu')  # 250\n",
    "        self.d2=tf.keras.layers.Dense(units2, activation='relu')  #200\n",
    "        self.d21=tf.keras.layers.Dense(units21, activation='relu')  #150\n",
    "        self.d22=tf.keras.layers.Dense(units22, activation='relu')  #100\n",
    "        self.d23=tf.keras.layers.Dense(units23, activation='relu')  #50\n",
    "\n",
    "\n",
    "        self.d3_r=tf.keras.layers.Dense(units3, activation='relu')\n",
    "        self.d3_i=tf.keras.layers.Dense(units3, activation='relu')\n",
    "        self.osc1=Hopf(units4, num_steps=duration, min_omega=0.1, max_omega=64.1, train_omegas=True)\n",
    "\n",
    "        #self.d3_r1=tf.keras.layers.Dense(units9, activation='relu')\n",
    "        #self.d3_i1=tf.keras.layers.Dense(units9, activation='relu')\n",
    "        #self.osc2=Hopf(units10, num_steps=duration, min_omega=0.1, max_omega=64.1, train_omegas=True)\n",
    "\n",
    "        self.d4_r=tf.keras.layers.Dense(units5, activation='tanh')\n",
    "        self.d4_i=tf.keras.layers.Dense(units5, activation='tanh')\n",
    "\n",
    "        self.d5=tf.keras.layers.Dense(units7, activation='tanh')\n",
    "        #self.d6=tf.keras.layers.Dense(units8, activation='tanh')\n",
    "\n",
    "        #self.d5_i=tf.keras.layers.Dense(units7, activation='tanh')\n",
    "        self.out_dense=tf.keras.layers.Dense(units6, activation='linear')\n",
    "    \n",
    "    def call(self, X):\n",
    "        out1=tf.keras.layers.TimeDistributed(self.d1)(X)    #250\n",
    "        out2=tf.keras.layers.TimeDistributed(self.d2)(out1) #200\n",
    "        out21=tf.keras.layers.TimeDistributed(self.d21)(out2) #150\n",
    "        out22=tf.keras.layers.TimeDistributed(self.d22)(out21) #100\n",
    "        out23=tf.keras.layers.TimeDistributed(self.d23)(out22) #50\n",
    "\n",
    "\n",
    "        out3_r=tf.keras.layers.TimeDistributed(self.d3_r)(out23) #25\n",
    "        out3_i=tf.keras.layers.TimeDistributed(self.d3_i)(out23)\n",
    "        z1_r, z1_i = self.osc1(out3_r, out3_i)\n",
    "\n",
    "        #out3_r1=tf.keras.layers.TimeDistributed(self.d3_r1)(z1_r)\n",
    "        #out3_i1=tf.keras.layers.TimeDistributed(self.d3_i1)(z1_i)\n",
    "        #z1_r1, z1_i1 = self.osc2(out3_r1, out3_i1)\n",
    "\n",
    "        out4_r=tf.keras.layers.TimeDistributed(self.d4_r)(z1_r)\n",
    "        out4_i=tf.keras.layers.TimeDistributed(self.d4_i)(z1_i)\n",
    "        concat_inp=tf.concat([out4_r,out4_i],2)\n",
    "        out5=tf.keras.layers.TimeDistributed(self.d5)(concat_inp)\n",
    "        #out6=tf.keras.layers.TimeDistributed(self.d6)(out5)\n",
    "\n",
    "\n",
    "        out_final=tf.keras.layers.TimeDistributed(self.out_dense)(out5)\n",
    "\n",
    "        return out_final\n",
    "        #return [out3_r,out3_i]\n",
    "\n",
    "model_classifier =  Model_classifier(250, 200,150,100, 50,25, 25,20, 15,10)"
   ]
  },
  {
   "cell_type": "code",
   "execution_count": 44,
   "metadata": {},
   "outputs": [],
   "source": [
    "class Model_classifier2(tf.keras.Model):\n",
    "    def __init__(self, units1, units2,units21,units22,units23, units3,units4,  units5, units7, units6,  **kwargs):\n",
    "        super(Model_classifier2, self).__init__(**kwargs)\n",
    "\n",
    "        self.d1=tf.keras.layers.Dense(units1, activation='relu')  # 250\n",
    "        self.d2=tf.keras.layers.Dense(units2, activation='relu')  #200\n",
    "        self.d21=tf.keras.layers.Dense(units21, activation='relu')  #150\n",
    "        self.d22=tf.keras.layers.Dense(units22, activation='relu')  #100\n",
    "        self.d23=tf.keras.layers.Dense(units23, activation='relu')  #50\n",
    "\n",
    "\n",
    "        self.d3_r=tf.keras.layers.Dense(units3, activation='relu')\n",
    "        self.d3_i=tf.keras.layers.Dense(units3, activation='relu')\n",
    "        self.osc1=Hopf(units4, num_steps=duration, min_omega=0.1, max_omega=64.1, train_omegas=True)\n",
    "\n",
    "        #self.d3_r1=tf.keras.layers.Dense(units9, activation='relu')\n",
    "        #self.d3_i1=tf.keras.layers.Dense(units9, activation='relu')\n",
    "        #self.osc2=Hopf(units10, num_steps=duration, min_omega=0.1, max_omega=64.1, train_omegas=True)\n",
    "\n",
    "        self.d4_r=tf.keras.layers.Dense(units5, activation='tanh')\n",
    "        self.d4_i=tf.keras.layers.Dense(units5, activation='tanh')\n",
    "\n",
    "        self.d5=tf.keras.layers.Dense(units7, activation='tanh')\n",
    "        #self.d6=tf.keras.layers.Dense(units8, activation='tanh')\n",
    "\n",
    "        #self.d5_i=tf.keras.layers.Dense(units7, activation='tanh')\n",
    "        self.out_dense=tf.keras.layers.Dense(units6, activation='linear')\n",
    "    \n",
    "    def call(self, X):\n",
    "        out1=tf.keras.layers.TimeDistributed(self.d1)(X)    #250\n",
    "        out2=tf.keras.layers.TimeDistributed(self.d2)(out1) #200\n",
    "        out21=tf.keras.layers.TimeDistributed(self.d21)(out2) #150\n",
    "        out22=tf.keras.layers.TimeDistributed(self.d22)(out21) #100\n",
    "        out23=tf.keras.layers.TimeDistributed(self.d23)(out22) #50\n",
    "\n",
    "\n",
    "        out3_r=tf.keras.layers.TimeDistributed(self.d3_r)(out23) #25\n",
    "        out3_i=tf.keras.layers.TimeDistributed(self.d3_i)(out23)\n",
    "        z1_r, z1_i = self.osc1(out3_r, out3_i)\n",
    "\n",
    "        #out3_r1=tf.keras.layers.TimeDistributed(self.d3_r1)(z1_r)\n",
    "        #out3_i1=tf.keras.layers.TimeDistributed(self.d3_i1)(z1_i)\n",
    "        #z1_r1, z1_i1 = self.osc2(out3_r1, out3_i1)\n",
    "\n",
    "        out4_r=tf.keras.layers.TimeDistributed(self.d4_r)(z1_r)\n",
    "        out4_i=tf.keras.layers.TimeDistributed(self.d4_i)(z1_i)\n",
    "        concat_inp=tf.concat([out4_r,out4_i],2)\n",
    "        out5=tf.keras.layers.TimeDistributed(self.d5)(concat_inp)\n",
    "        #out6=tf.keras.layers.TimeDistributed(self.d6)(out5)\n",
    "\n",
    "\n",
    "        out_final=tf.keras.layers.TimeDistributed(self.out_dense)(out5)\n",
    "\n",
    "        return [out3_r, out3_i]\n",
    "        #return [out3_r,out3_i]\n",
    "\n",
    "model_classifier2 =  Model_classifier2(250, 200,150,100, 50,25, 25,20, 15,10)"
   ]
  },
  {
   "cell_type": "code",
   "execution_count": 45,
   "metadata": {},
   "outputs": [],
   "source": [
    "optimizer = tf.keras.optimizers.Adam(0.01)\n",
    "model_classifier.compile(optimizer, 'mse', metrics=['accuracy'])"
   ]
  },
  {
   "cell_type": "code",
   "execution_count": 46,
   "metadata": {},
   "outputs": [
    {
     "data": {
      "text/plain": [
       "\"model_classifier.load_weights('oscillator_classifier_high_net3.h5')\\nmodel_classifier.osc1.omegas=tf.constant(np.load('trained_omegas_classifier_high_net3.npy'))\""
      ]
     },
     "execution_count": 46,
     "metadata": {},
     "output_type": "execute_result"
    }
   ],
   "source": [
    "a=model_classifier(np.random.uniform(0,1,(1,32,400)))\n",
    "\"\"\"model_classifier.load_weights('oscillator_classifier_high_net3.h5')\n",
    "model_classifier.osc1.omegas=tf.constant(np.load('trained_omegas_classifier_high_net3.npy'))\"\"\"\n",
    "#history_classifier = model_classifier.fit(X_train/255, y_train_classify/8, epochs=300, batch_size=1000,shuffle=True,validation_split=0)\n",
    "#model_classifier.osc2.omegas=tf.constant(np.load('10_class_data/omega2_GAN.npy'))"
   ]
  },
  {
   "cell_type": "code",
   "execution_count": 47,
   "metadata": {},
   "outputs": [],
   "source": [
    "b=model_classifier2(np.random.uniform(0,1,(1,32,400)))"
   ]
  },
  {
   "cell_type": "code",
   "execution_count": 48,
   "metadata": {},
   "outputs": [
    {
     "name": "stdout",
     "output_type": "stream",
     "text": [
      "<KeysViewHDF5 ['time_distributed']>\n",
      "<KeysViewHDF5 ['time_distributed_1']>\n",
      "<KeysViewHDF5 ['time_distributed_2']>\n",
      "<KeysViewHDF5 ['time_distributed_3']>\n",
      "<KeysViewHDF5 ['time_distributed_4']>\n",
      "<KeysViewHDF5 ['time_distributed_5']>\n",
      "<KeysViewHDF5 ['time_distributed_6']>\n"
     ]
    }
   ],
   "source": [
    "import tensorflow as tf\n",
    "import h5py\n",
    "\n",
    "# Path to your h5 file\n",
    "h5_file_path = 'oscillator_classifier_high_net3.h5'\n",
    "\n",
    "# Open the h5 file in read mode\n",
    "with h5py.File(h5_file_path, 'r') as h5_file:\n",
    "    weights_dict=dict(h5_file)\n",
    "    layers=list(weights_dict.keys())\n",
    "    time_distributed_layers=[\"time_distributed\"]\n",
    "    time_distributed_layers1=[f\"time_distributed_{i}\" for i in range(1,7)]\n",
    "    time_distributed_layers+=time_distributed_layers1\n",
    "    # Load weights for each layer\n",
    "    for i in range(7):\n",
    "        # Get the layer name from the h5 file\n",
    "        layer_name = layers[i]  # Assuming layers are in order\n",
    "        \n",
    "        weight_data=[]\n",
    "        print(dict(h5_file)[layer_name]['model_classifier2_2'].keys())\n",
    "        \n",
    "        weight_data.append(dict(h5_file)[layer_name]['model_classifier2_2'][time_distributed_layers[i]][\"kernel:0\"])\n",
    "        weight_data.append(dict(h5_file)[layer_name]['model_classifier2_2'][time_distributed_layers[i]][\"bias:0\"])\n",
    "        model_classifier2.layers[i].set_weights(weight_data)\n",
    "\n"
   ]
  },
  {
   "cell_type": "code",
   "execution_count": 50,
   "metadata": {},
   "outputs": [],
   "source": [
    "a=model_classifier2(np.random.uniform(0,1,(1,32,400)))"
   ]
  },
  {
   "cell_type": "code",
   "execution_count": 51,
   "metadata": {},
   "outputs": [
    {
     "data": {
      "text/plain": [
       "'for i in range(7):\\n    model_classifier2.layers[i].set_weights(model_classifier.layers[i].get_weights())\\n    model_classifier2.layers[i].trainable=False\\n\\n\\nmodel_classifier2.osc1.omegas=tf.constant(model_classifier.osc1.omegas.numpy().copy())'"
      ]
     },
     "execution_count": 51,
     "metadata": {},
     "output_type": "execute_result"
    }
   ],
   "source": [
    "\"\"\"for i in range(7):\n",
    "    model_classifier2.layers[i].set_weights(model_classifier.layers[i].get_weights())\n",
    "    model_classifier2.layers[i].trainable=False\n",
    "\n",
    "\n",
    "model_classifier2.osc1.omegas=tf.constant(model_classifier.osc1.omegas.numpy().copy())\"\"\"\n"
   ]
  },
  {
   "cell_type": "code",
   "execution_count": 52,
   "metadata": {},
   "outputs": [
    {
     "data": {
      "text/plain": [
       "'X_train_compressed=np.load(\"10_class_data/img_compressed.npy\")\\nX_test_compressed=np.load(\"10_class_data/img_compressed_test.npy\")'"
      ]
     },
     "execution_count": 52,
     "metadata": {},
     "output_type": "execute_result"
    }
   ],
   "source": [
    "\"\"\"X_train_compressed=model_classifier2(X_train/255)\n",
    "X_train_compressed=np.array(X_train_compressed)\"\"\"\n",
    "\n",
    "\"\"\"X_train_compressed=np.load(\"10_class_data/img_compressed.npy\")\n",
    "X_test_compressed=np.load(\"10_class_data/img_compressed_test.npy\")\"\"\""
   ]
  },
  {
   "cell_type": "code",
   "execution_count": 53,
   "metadata": {},
   "outputs": [
    {
     "data": {
      "text/plain": [
       "'X_test_compressed=model_classifier2(X_test/255)\\nX_test_compressed=np.array(y_test_compressed)'"
      ]
     },
     "execution_count": 53,
     "metadata": {},
     "output_type": "execute_result"
    }
   ],
   "source": [
    "\"\"\"X_test_compressed=model_classifier2(X_test/255)\n",
    "X_test_compressed=np.array(y_test_compressed)\"\"\"\n",
    "#np.save(\"10_class_data/img_compressed_test.npy\",y_test_compressed)"
   ]
  },
  {
   "cell_type": "code",
   "execution_count": 54,
   "metadata": {},
   "outputs": [
    {
     "data": {
      "text/plain": [
       "<matplotlib.image.AxesImage at 0x2680547ea50>"
      ]
     },
     "execution_count": 54,
     "metadata": {},
     "output_type": "execute_result"
    },
    {
     "data": {
      "image/png": "[encoded data removed]",
      "text/plain": [
       "<Figure size 640x480 with 1 Axes>"
      ]
     },
     "metadata": {},
     "output_type": "display_data"
    }
   ],
   "source": [
    "plt.imshow(X_autoencoder[0,0,:].reshape(20,20),cmap='gray')"
   ]
  },
  {
   "cell_type": "code",
   "execution_count": 55,
   "metadata": {},
   "outputs": [
    {
     "data": {
      "text/plain": [
       "\"latent_reps=np.array(model_classifier2(X_autoencoder/255))\\nfig,axs=plt.subplots(10,20,figsize=(400,200))\\nk=0\\nprint(latent_reps.shape)\\nfor i in range(10):\\n    print(i+1)\\n    for j in range(20):\\n        #print(latent_reps[k,0,:].max(),latent_reps[k,0,:].min())\\n        axs[i][j].imshow(latent_reps[1,k,0,:].reshape(5,5),cmap='gray')\\n        k+=1\""
      ]
     },
     "execution_count": 55,
     "metadata": {},
     "output_type": "execute_result"
    }
   ],
   "source": [
    "\"\"\"latent_reps=np.array(model_classifier2(X_autoencoder/255))\n",
    "fig,axs=plt.subplots(10,20,figsize=(400,200))\n",
    "k=0\n",
    "print(latent_reps.shape)\n",
    "for i in range(10):\n",
    "    print(i+1)\n",
    "    for j in range(20):\n",
    "        #print(latent_reps[k,0,:].max(),latent_reps[k,0,:].min())\n",
    "        axs[i][j].imshow(latent_reps[1,k,0,:].reshape(5,5),cmap='gray')\n",
    "        k+=1\"\"\""
   ]
  },
  {
   "cell_type": "code",
   "execution_count": null,
   "metadata": {},
   "outputs": [],
   "source": [
    "#X_train_compressed=model_classifier2.predict(X_train.reshape(40000,32,400)/255)\n"
   ]
  },
  {
   "cell_type": "code",
   "execution_count": 59,
   "metadata": {},
   "outputs": [],
   "source": [
    "#X_test_compressed=model_classifier2.predict(X_test.reshape(1000,32,400)/255)\n",
    "#np.save(\"img_compressed_train.npy\",X_train_compressed)\n",
    "#np.save(\"img_compressed_test.npy\",X_test_compressed)"
   ]
  },
  {
   "cell_type": "code",
   "execution_count": 60,
   "metadata": {},
   "outputs": [],
   "source": [
    "X_train_compressed=np.load(\"img_compressed_train.npy\")\n",
    "X_test_compressed=np.load(\"img_compressed_test.npy\")"
   ]
  },
  {
   "cell_type": "code",
   "execution_count": 62,
   "metadata": {},
   "outputs": [],
   "source": [
    "#X_test_compressed.shape"
   ]
  },
  {
   "cell_type": "code",
   "execution_count": 63,
   "metadata": {},
   "outputs": [
    {
     "name": "stdout",
     "output_type": "stream",
     "text": [
      "\u001b[1m169/169\u001b[0m \u001b[32m━━━━━━━━━━━━━━━━━━━━\u001b[0m\u001b[37m\u001b[0m \u001b[1m8s\u001b[0m 32ms/step\n"
     ]
    },
    {
     "data": {
      "text/plain": [
       "np.float64(1.0)"
      ]
     },
     "execution_count": 63,
     "metadata": {},
     "output_type": "execute_result"
    }
   ],
   "source": [
    "X_test_compressed=model_classifier2.predict(X_test_img.reshape(5400,32,400)/255)\n",
    "(X_test_img.reshape(5400,32,400)/255).max()"
   ]
  },
  {
   "cell_type": "code",
   "execution_count": 64,
   "metadata": {},
   "outputs": [
    {
     "data": {
      "text/plain": [
       "np.uint8(255)"
      ]
     },
     "execution_count": 64,
     "metadata": {},
     "output_type": "execute_result"
    }
   ],
   "source": [
    "X_test_img.max()"
   ]
  },
  {
   "cell_type": "code",
   "execution_count": 43,
   "metadata": {},
   "outputs": [],
   "source": [
    "#a=np.array(a)"
   ]
  },
  {
   "cell_type": "code",
   "execution_count": 54,
   "metadata": {},
   "outputs": [
    {
     "data": {
      "text/plain": [
       "'c=0\\n\\nfor i in range(200):\\n    a1=sum(a[i,:])\\n    indices = np.where(a1 == a1.max())\\n    #print(indices)\\n    b1=sum(y_autoencoder[i,:])\\n    indices1 = np.where(b1 == b1.max())\\n    print(indices1)\\n\\n    if indices==indices1:\\n       c=c+1\\n\\nprint(c)'"
      ]
     },
     "execution_count": 54,
     "metadata": {},
     "output_type": "execute_result"
    }
   ],
   "source": [
    "\"\"\"c=0\n",
    "\n",
    "for i in range(200):\n",
    "    a1=sum(a[i,:])\n",
    "    indices = np.where(a1 == a1.max())\n",
    "    #print(indices)\n",
    "    b1=sum(y_autoencoder[i,:])\n",
    "    indices1 = np.where(b1 == b1.max())\n",
    "    print(indices1)\n",
    "\n",
    "    if indices==indices1:\n",
    "       c=c+1\n",
    "\n",
    "print(c)\"\"\""
   ]
  },
  {
   "cell_type": "markdown",
   "metadata": {},
   "source": [
    "Generator"
   ]
  },
  {
   "cell_type": "code",
   "execution_count": 65,
   "metadata": {},
   "outputs": [],
   "source": [
    "#main_classifier\n",
    "\n",
    "import tensorflow as tf\n",
    "\n",
    "\n",
    "\n",
    "@tf.function\n",
    "def rossler_noise_generator(batch_size, num_steps, units, a=0.2, b=0.2, c=5.7):\n",
    "    # Initialize arrays to store Rössler system values\n",
    "    x = tf.TensorArray(dtype=tf.float32, size=num_steps)\n",
    "    y = tf.TensorArray(dtype=tf.float32, size=num_steps)\n",
    "    z = tf.TensorArray(dtype=tf.float32, size=num_steps)\n",
    "    \n",
    "    # Initial conditions as Gaussian noise with batch dimension\n",
    "    x_t = tf.random.normal((batch_size, units), mean=0.0, stddev=1.0)\n",
    "    y_t = tf.random.normal((batch_size, units), mean=0.0, stddev=1.0)\n",
    "    z_t = tf.random.normal((batch_size, units), mean=0.0, stddev=1.0)\n",
    "    \n",
    "    dt = 5.0/num_steps  # T/num_steps where T=10\n",
    "    \n",
    "    # Generate Rössler system trajectories\n",
    "    for t in tf.range(num_steps):\n",
    "        # Update equations\n",
    "        dx = -y_t - z_t\n",
    "        dy = x_t + a * y_t\n",
    "        dz = b + z_t * (x_t - c)\n",
    "        \n",
    "        x_t = x_t + dt * dx\n",
    "        y_t = y_t + dt * dy\n",
    "        z_t = z_t + dt * dz\n",
    "        \n",
    "        # Store current values\n",
    "        x = x.write(t, x_t)\n",
    "        y = y.write(t, y_t)\n",
    "        z = z.write(t, z_t)\n",
    "    \n",
    "    # Stack and transpose to get shape (batch_size, num_steps, units)\n",
    "    x = tf.transpose(x.stack(), [1, 0, 2])  # Shape: (batch_size, num_steps, units)\n",
    "    \n",
    "    return x  # Returns full time series with shape (batch_size, num_steps, units)\n",
    "\n",
    "@tf.function\n",
    "def real_cal(r, phi):\n",
    "    return r * tf.math.cos(phi)\n",
    "\n",
    "@tf.function\n",
    "def imag_cal(r, phi):\n",
    "    return r * tf.math.sin(phi)\n",
    "\n",
    "@tf.function\n",
    "def oscillator_loop_generator(X_r, X_i, omegas, num_steps):\n",
    "    # batch_size x timesteps X dim\n",
    "    r_arr = tf.TensorArray(dtype=tf.float32, size=0, dynamic_size=True) # creates empty array to save r_t\n",
    "    phi_arr = tf.TensorArray(dtype=tf.float32, size=0, dynamic_size=True)\n",
    "    r_t = tf.ones((tf.shape(X_r)[0], tf.shape(X_r)[-1])) # Initializing r_t\n",
    "    phis = tf.zeros((tf.shape(X_r)[0], tf.shape(X_r)[-1])) # Initislizing phi_t\n",
    "    dt = 1/128\n",
    "    input_scaler = 500\n",
    "    beta=1\n",
    "\n",
    "    for t in tf.range(num_steps):\n",
    "        input_r = input_scaler*X_r[:,t,:]*tf.math.cos(phis)\n",
    "        input_phi = input_scaler*X_i[:,t,:]*tf.math.sin(phis)\n",
    "        r_t = r_t + ((1 - beta*tf.square(r_t)) * r_t + input_r) * dt\n",
    "        phis = phis + (omegas - input_phi) * dt\n",
    "        r_arr = r_arr.write(r_arr.size(), r_t)  #1000,1,2\n",
    "        phi_arr = phi_arr.write(phi_arr.size(), phis)\n",
    "    r_arr = tf.transpose(r_arr.stack(), [1, 0, 2])  # Changing dimensions to 1,1000,2\n",
    "    phi_arr = tf.transpose(phi_arr.stack(), [1, 0, 2])\n",
    "    return r_arr, phi_arr\n",
    "\n",
    "class Hopf_gen(tf.keras.layers.Layer):\n",
    "\n",
    "    def __init__(self, units, num_steps, min_omega=0.1,\n",
    "                 max_omega=64.1,train_omegas=True, **kwargs):\n",
    "        super(Hopf_gen, self).__init__(**kwargs)\n",
    "        self.units = units\n",
    "        self.num_steps = num_steps\n",
    "        self.train_omegas=train_omegas\n",
    "        self.max_omega=max_omega\n",
    "        self.min_omega=min_omega\n",
    "        # self.omegas = tf.linspace(min_omega, max_omega, self.units) * (2*3.1415)\n",
    "        # self.omegas = tf.cast(tf.expand_dims(self.omegas, 0), 'float32')\n",
    "\n",
    "        omega_init=tf.random.uniform((1,self.units),-1,1)\n",
    "        self.omegas=tf.Variable(omega_init,trainable=self.train_omegas)\n",
    "\n",
    "    def call(self, X_r, X_i):\n",
    "        omega_intl = self.max_omega - self.min_omega\n",
    "        omega_inp = tf.sigmoid(0.5*self.omegas) * omega_intl + self.min_omega\n",
    "\n",
    "\n",
    "        r, phi = oscillator_loop_generator(X_r, X_i, omega_inp , self.num_steps)\n",
    "        z_real = real_cal(r, phi)\n",
    "        z_imag = imag_cal(r, phi)\n",
    "        return z_real, z_imag\n",
    "\n",
    "\n",
    "duration = 32\n",
    "\n",
    "class Model_generator(tf.keras.Model):\n",
    "    def __init__(self,  units5,units6,units7,units8,units9,units10 , **kwargs):\n",
    "        super(Model_generator, self).__init__(**kwargs)\n",
    "\n",
    "        \n",
    "        # New layers beyond osc2\n",
    "        self.d3_r1 = tf.keras.layers.Dense(units5, activation='relu')\n",
    "        self.d3_i = tf.keras.layers.Dense(units5, activation='relu')\n",
    "        \n",
    "\n",
    "        self.osc3 = Hopf_gen(units6, num_steps=duration, min_omega=0.1, max_omega=64.1, train_omegas=True)\n",
    "    \n",
    "        self.d4_r = tf.keras.layers.Dense(units7, activation='relu')\n",
    "        self.d4_i = tf.keras.layers.Dense(units7, activation='relu')\n",
    "        \n",
    "        self.osc4 = Hopf_gen(units8, num_steps=duration, min_omega=0.1, max_omega=64.1, train_omegas=True)\n",
    "\n",
    "        self.d5=tf.keras.layers.Dense(units9,activation='tanh')\n",
    "        \n",
    "        self.out_dense=tf.keras.layers.Dense(units10,activation='linear')\n",
    "\n",
    "        #self.d4 = tf.keras.layers.Dense(units7, activation='tanh')\n",
    "        #self.out_dense = tf.keras.layers.Dense(units6, activation='linear')\n",
    "    \n",
    "    def call(self, X):\n",
    "\n",
    "        min_vals = tf.reduce_min(X, axis=-1, keepdims=True)\n",
    "        max_vals = tf.reduce_max(X, axis=-1, keepdims=True)\n",
    "\n",
    "        X = (X - min_vals) / (max_vals - min_vals + 1e-8)\n",
    "\n",
    "        out3_r1= tf.keras.layers.TimeDistributed(self.d3_r1)(X)\n",
    "        \n",
    "\n",
    "        out3_i = tf.keras.layers.TimeDistributed(self.d3_i)(X)\n",
    "        \n",
    "\n",
    "        z3_r, z3_i = self.osc3(out3_r1, out3_i)\n",
    "\n",
    "        #rossler_noise1 = rossler_noise_generator( tf.shape(X)[0], 32, tf.shape(z3_r)[-1])\n",
    "        rossler_noise1=tf.random.normal((tf.shape(z3_r)[0],32,z3_r.shape[2]),mean=0.0,stddev=1)\n",
    "        \"\"\"z3_r = tf.concat([z3_r, rossler_noise1], 2)\n",
    "        z3_i=tf.concat([z3_i,rossler_noise1],2)\"\"\"\n",
    "        z3_r = z3_r + rossler_noise1\n",
    "        z3_i = z3_i + rossler_noise1\n",
    "        out4_r = tf.keras.layers.TimeDistributed(self.d4_r)(z3_r)\n",
    "        \n",
    "        out4_i = tf.keras.layers.TimeDistributed(self.d4_i)(z3_i)\n",
    "        \n",
    "        out4_r_noise=tf.random.normal((tf.shape(out4_r)[0],32,out4_r.shape[2]),mean=0.0,stddev=1)\n",
    "        out4_i_noise=tf.random.normal((tf.shape(out4_i)[0],32,out4_i.shape[2]),mean=0.0,stddev=1)\n",
    "        out4_r = tf.concat([out4_r, out4_r_noise], 2)\n",
    "        out4_i=tf.concat([out4_i,out4_i_noise],2)\n",
    "        z4_r, z4_i = self.osc4(out4_r, out4_i)\n",
    "        \n",
    "        #z4_noise=tf.random.normal((tf.shape(z4_r)[0],32,z4_r.shape[2]),mean=0.0,stddev=0.5)\n",
    "        concat_inp2 = tf.concat([z4_r,z4_i], 2)\n",
    "        out4 = tf.keras.layers.TimeDistributed(self.d5)(concat_inp2)\n",
    "        out_final = tf.keras.layers.TimeDistributed(self.out_dense)(out4)\n",
    "\n",
    "        return out_final\n",
    "\n",
    "model_generator = Model_generator(20, 20,10,20,20,14)\n",
    "        "
   ]
  },
  {
   "cell_type": "code",
   "execution_count": 66,
   "metadata": {},
   "outputs": [],
   "source": [
    "#main_classifier\n",
    "\n",
    "import tensorflow as tf\n",
    "\n",
    "\n",
    "\n",
    "@tf.function\n",
    "def rossler_noise_generator(batch_size, num_steps, units, a=0.2, b=0.2, c=5.7):\n",
    "    # Initialize arrays to store Rössler system values\n",
    "    x = tf.TensorArray(dtype=tf.float32, size=num_steps)\n",
    "    y = tf.TensorArray(dtype=tf.float32, size=num_steps)\n",
    "    z = tf.TensorArray(dtype=tf.float32, size=num_steps)\n",
    "    \n",
    "    # Initial conditions as Gaussian noise with batch dimension\n",
    "    x_t = tf.random.normal((batch_size, units), mean=0.0, stddev=1.0)\n",
    "    y_t = tf.random.normal((batch_size, units), mean=0.0, stddev=1.0)\n",
    "    z_t = tf.random.normal((batch_size, units), mean=0.0, stddev=1.0)\n",
    "    \n",
    "    dt = 5.0/num_steps  # T/num_steps where T=10\n",
    "    \n",
    "    # Generate Rössler system trajectories\n",
    "    for t in tf.range(num_steps):\n",
    "        # Update equations\n",
    "        dx = -y_t - z_t\n",
    "        dy = x_t + a * y_t\n",
    "        dz = b + z_t * (x_t - c)\n",
    "        \n",
    "        x_t = x_t + dt * dx\n",
    "        y_t = y_t + dt * dy\n",
    "        z_t = z_t + dt * dz\n",
    "        \n",
    "        # Store current values\n",
    "        x = x.write(t, x_t)\n",
    "        y = y.write(t, y_t)\n",
    "        z = z.write(t, z_t)\n",
    "    \n",
    "    # Stack and transpose to get shape (batch_size, num_steps, units)\n",
    "    x = tf.transpose(x.stack(), [1, 0, 2])  # Shape: (batch_size, num_steps, units)\n",
    "    \n",
    "    return x  # Returns full time series with shape (batch_size, num_steps, units)\n",
    "\n",
    "@tf.function\n",
    "def real_cal(r, phi):\n",
    "    return r * tf.math.cos(phi)\n",
    "\n",
    "@tf.function\n",
    "def imag_cal(r, phi):\n",
    "    return r * tf.math.sin(phi)\n",
    "\n",
    "@tf.function\n",
    "def oscillator_loop_generator(X_r, X_i, omegas, num_steps):\n",
    "    # batch_size x timesteps X dim\n",
    "    r_arr = tf.TensorArray(dtype=tf.float32, size=0, dynamic_size=True) # creates empty array to save r_t\n",
    "    phi_arr = tf.TensorArray(dtype=tf.float32, size=0, dynamic_size=True)\n",
    "    r_t = tf.ones((tf.shape(X_r)[0], tf.shape(X_r)[-1])) # Initializing r_t\n",
    "    #phis = tf.random.uniform(0,1,(tf.shape(X_r)[0], tf.shape(X_r)[-1])) # Initislizing phi_t\n",
    "    phis = tf.random.uniform(shape=[tf.shape(X_r)[0], tf.shape(X_r)[-1]], minval=0, maxval=0.785)\n",
    "    r_t=tf.random.uniform(shape=[tf.shape(X_r)[0], tf.shape(X_r)[-1]], minval=0, maxval=0.5)\n",
    "    dt = 1/128\n",
    "    input_scaler = 100\n",
    "    beta=1\n",
    "\n",
    "    for t in tf.range(num_steps):\n",
    "        input_r = input_scaler*X_r[:,t,:]*tf.math.cos(phis)\n",
    "        input_phi = input_scaler*X_i[:,t,:]*tf.math.sin(phis)\n",
    "        r_t = r_t + ((1 - beta*tf.square(r_t)) * r_t + input_r) * dt\n",
    "        phis = phis + (omegas - input_phi) * dt\n",
    "        r_arr = r_arr.write(r_arr.size(), r_t)  #1000,1,2\n",
    "        phi_arr = phi_arr.write(phi_arr.size(), phis)\n",
    "    r_arr = tf.transpose(r_arr.stack(), [1, 0, 2])  # Changing dimensions to 1,1000,2\n",
    "    phi_arr = tf.transpose(phi_arr.stack(), [1, 0, 2])\n",
    "    return r_arr, phi_arr\n",
    "\n",
    "class Hopf_gen(tf.keras.layers.Layer):\n",
    "\n",
    "    def __init__(self, units, num_steps, min_omega=0.1,\n",
    "                 max_omega=64.1,train_omegas=True, **kwargs):\n",
    "        super(Hopf_gen, self).__init__(**kwargs)\n",
    "        self.units = units\n",
    "        self.num_steps = num_steps\n",
    "        self.train_omegas=train_omegas\n",
    "        self.max_omega=max_omega\n",
    "        self.min_omega=min_omega\n",
    "        # self.omegas = tf.linspace(min_omega, max_omega, self.units) * (2*3.1415)\n",
    "        # self.omegas = tf.cast(tf.expand_dims(self.omegas, 0), 'float32')\n",
    "\n",
    "        omega_init=tf.random.uniform((1,self.units),-1,1)\n",
    "        self.omegas=tf.Variable(omega_init,trainable=self.train_omegas)\n",
    "\n",
    "    def call(self, X_r, X_i):\n",
    "        omega_intl = self.max_omega - self.min_omega\n",
    "        omega_inp = tf.sigmoid(0.5*self.omegas) * omega_intl + self.min_omega\n",
    "\n",
    "\n",
    "        r, phi = oscillator_loop_generator(X_r, X_i, omega_inp , self.num_steps)\n",
    "        z_real = real_cal(r, phi)\n",
    "        z_imag = imag_cal(r, phi)\n",
    "        return z_real, z_imag\n",
    "\n",
    "\n",
    "duration = 32\n",
    "\n",
    "class Model_generator(tf.keras.Model):\n",
    "    def __init__(self,  units5,units6,units7,units8,units9,units10 , **kwargs):\n",
    "        super(Model_generator, self).__init__(**kwargs)\n",
    "\n",
    "        \n",
    "        # New layers beyond osc2\n",
    "        self.d3_r1 = tf.keras.layers.Dense(units5, activation='relu')\n",
    "        self.d3_i = tf.keras.layers.Dense(units5, activation='relu')\n",
    "        \n",
    "\n",
    "        self.osc3 = Hopf_gen(units6, num_steps=duration, min_omega=0.1, max_omega=64.1, train_omegas=True)\n",
    "        self.bn1=tf.keras.layers.BatchNormalization(center=False, scale=False)\n",
    "        self.d4_r = tf.keras.layers.Dense(units7, activation='relu')\n",
    "        self.bn2=tf.keras.layers.BatchNormalization(center=False, scale=False)\n",
    "        self.d4_i = tf.keras.layers.Dense(units7, activation='relu')\n",
    "        self.bn3=tf.keras.layers.BatchNormalization(center=False, scale=False)\n",
    "        self.osc4 = Hopf_gen(units8, num_steps=duration, min_omega=0.1, max_omega=64.1, train_omegas=True)\n",
    "        self.bn4=tf.keras.layers.BatchNormalization(center=False, scale=False)\n",
    "        self.d5=tf.keras.layers.Dense(units9,activation='tanh')\n",
    "        self.bn5=tf.keras.layers.BatchNormalization(center=False, scale=False)\n",
    "        self.out_dense=tf.keras.layers.Dense(units10,activation='linear')\n",
    "        self.bn6=tf.keras.layers.BatchNormalization(center=False, scale=False)\n",
    "        self.bn7=tf.keras.layers.BatchNormalization(center=False, scale=False)\n",
    "        #self.d4 = tf.keras.layers.Dense(units7, activation='tanh')\n",
    "        #self.out_dense = tf.keras.layers.Dense(units6, activation='linear')\n",
    "    \n",
    "    def call(self, inputs):\n",
    "        X1=inputs[0]\n",
    "        X2=inputs[1]\n",
    "\n",
    "        min_vals = tf.reduce_min(X1, axis=-1, keepdims=True)\n",
    "        max_vals = tf.reduce_max(X1, axis=-1, keepdims=True)\n",
    "\n",
    "        X1 = (X1 - min_vals) / (max_vals - min_vals + 1e-8)\n",
    "\n",
    "        min_vals = tf.reduce_min(X2, axis=-1, keepdims=True)\n",
    "        max_vals = tf.reduce_max(X2, axis=-1, keepdims=True)\n",
    "\n",
    "        X2 = (X2 - min_vals) / (max_vals - min_vals + 1e-8)\n",
    "\n",
    "        #X=tf.random.normal((tf.shape(X1)[0],32,X1.shape[2]),mean=0.0,stddev=1)\n",
    "        Z1=tf.random.normal((tf.shape(X1)[0],32,X1.shape[2]),mean=0.0,stddev=1)\n",
    "        Z2=tf.random.normal((tf.shape(X1)[0],32,X1.shape[2]),mean=0.2,stddev=1)\n",
    "        Z3=tf.random.normal((tf.shape(X1)[0],32,X1.shape[2]),mean=-0.2,stddev=1)\n",
    "        Z=Z1+Z2+Z3\n",
    "        Z=self.bn1(Z)\n",
    "        X=Z*X1+X2        \n",
    "        #X=X*X1+X2\n",
    "\n",
    "        out3_r1= tf.keras.layers.TimeDistributed(self.d3_r1)(X)\n",
    "        #out3_r=self.bn1(out3_r1)\n",
    "        #out3_r1=out3_r*X1+X2\n",
    "        out3_i = tf.keras.layers.TimeDistributed(self.d3_i)(X)\n",
    "        #out3_i=self.bn2(out3_i)\n",
    "        #out3_i=out3_i*X1+X2\n",
    "        \n",
    "\n",
    "        z3_r, z3_i = self.osc3(out3_r1, out3_i)\n",
    "        #rossler_noise1=tf.random.normal((tf.shape(z3_r)[0],32,z3_r.shape[2]),mean=0.0,stddev=1)\n",
    "        \n",
    "        #z3_r = z3_r + rossler_noise1\n",
    "        #z3_i = z3_i + rossler_noise1\n",
    "        #z3_r=self.bn3(z3_r)\n",
    "        #z3_r=z3_r*X1+X2\n",
    "        #z3_i=self.bn4(z3_i)\n",
    "        #z3_i=z3_i*X1+X2\n",
    "        out4_r = tf.keras.layers.TimeDistributed(self.d4_r)(z3_r)\n",
    "        #out4_r=self.bn5(out4_r)\n",
    "        #out4_r=out4_r*X1+X2\n",
    "        \n",
    "        out4_i = tf.keras.layers.TimeDistributed(self.d4_i)(z3_i)\n",
    "        out4_r_noise=tf.random.normal((tf.shape(out4_r)[0],32,out4_r.shape[2]),mean=0.0,stddev=1)\n",
    "        out4_i_noise=tf.random.normal((tf.shape(out4_i)[0],32,out4_i.shape[2]),mean=0.0,stddev=1)\n",
    "        #out4_r=out4_r+out4_r_noise\n",
    "        #out4_i=out4_i+out4_i_noise\n",
    "        #out4_i=self.bn6(out4_i)\n",
    "        #out4_i=out4_i*X1+X2\n",
    "        \n",
    "        #out4_r_noise=tf.random.normal((tf.shape(out4_r)[0],32,out4_r.shape[2]),mean=0.0,stddev=1)\n",
    "        #out4_i_noise=tf.random.normal((tf.shape(out4_i)[0],32,out4_i.shape[2]),mean=0.0,stddev=1)\n",
    "        #out4_r = tf.concat([out4_r, out4_r_noise], 2)\n",
    "        #out4_i=tf.concat([out4_i,out4_i_noise],2)\n",
    "        z4_r, z4_i = self.osc4(out4_r, out4_i)\n",
    "        #z4_r=self.bn7(z4_r)\n",
    "        #z4_r=z4_r*X1+X2\n",
    "        #z4_i=self.bn7(z4_i)\n",
    "        #z4_i=z4_i*X1+X2\n",
    "        \n",
    "        #z4_noise=tf.random.normal((tf.shape(z4_r)[0],32,z4_r.shape[2]),mean=0.0,stddev=0.5)\n",
    "        concat_inp2 = tf.concat([z4_r,z4_i], 2)\n",
    "        out4 = tf.keras.layers.TimeDistributed(self.d5)(concat_inp2)\n",
    "        out_final = tf.keras.layers.TimeDistributed(self.out_dense)(out4)\n",
    "\n",
    "        return out_final\n",
    "\n",
    "#model_generator = Model_generator(20, 20,10,20,20,14)\n",
    "model_generator = Model_generator(40, 40,40,40,30,14)"
   ]
  },
  {
   "cell_type": "code",
   "execution_count": 67,
   "metadata": {},
   "outputs": [
    {
     "name": "stdout",
     "output_type": "stream",
     "text": [
      "<Dense name=dense_28, built=False>\n",
      "Weights of layer dense_28:\n",
      "<Dense name=dense_29, built=False>\n",
      "Weights of layer dense_29:\n",
      "<Hopf_gen name=hopf_gen_2, built=False>\n",
      "Weights of layer hopf_gen_2:\n",
      "<BatchNormalization name=batch_normalization, built=False>\n",
      "Weights of layer batch_normalization:\n",
      "<Dense name=dense_30, built=False>\n",
      "Weights of layer dense_30:\n",
      "<BatchNormalization name=batch_normalization_1, built=False>\n",
      "Weights of layer batch_normalization_1:\n",
      "<Dense name=dense_31, built=False>\n",
      "Weights of layer dense_31:\n",
      "<BatchNormalization name=batch_normalization_2, built=False>\n",
      "Weights of layer batch_normalization_2:\n",
      "<Hopf_gen name=hopf_gen_3, built=False>\n",
      "Weights of layer hopf_gen_3:\n",
      "<BatchNormalization name=batch_normalization_3, built=False>\n",
      "Weights of layer batch_normalization_3:\n",
      "<Dense name=dense_32, built=False>\n",
      "Weights of layer dense_32:\n",
      "<BatchNormalization name=batch_normalization_4, built=False>\n",
      "Weights of layer batch_normalization_4:\n",
      "<Dense name=dense_33, built=False>\n",
      "Weights of layer dense_33:\n",
      "<BatchNormalization name=batch_normalization_5, built=False>\n",
      "Weights of layer batch_normalization_5:\n",
      "<BatchNormalization name=batch_normalization_6, built=False>\n",
      "Weights of layer batch_normalization_6:\n"
     ]
    }
   ],
   "source": [
    "\n",
    "\n",
    "# Access and print the weights of individual layers\n",
    "for layer in model_generator.layers:\n",
    "    print(layer)\n",
    "    layer_weights = layer.get_weights()\n",
    "    print(f\"Weights of layer {layer.name}:\")\n",
    "    for weight in layer_weights:\n",
    "        print(weight.shape)"
   ]
  },
  {
   "cell_type": "code",
   "execution_count": 68,
   "metadata": {},
   "outputs": [
    {
     "data": {
      "text/plain": [
       "'# Access the layer by name\\nlayer_name = \\'dense_16\\'  # Replace with the actual layer name\\nlayer = model_generator.get_layer(name=layer_name)\\n\\n# Get the weights of the layer\\nweights = layer.get_weights()\\n\\n# Print the weights\\nprint(f\"Weights of layer {layer_name}:\")\\nfor weight in weights:\\n    print(weight.shape)\\n    print(weight[:20].mean())\\n    print(weight[20:].mean())'"
      ]
     },
     "execution_count": 68,
     "metadata": {},
     "output_type": "execute_result"
    }
   ],
   "source": [
    "\"\"\"# Access the layer by name\n",
    "layer_name = 'dense_16'  # Replace with the actual layer name\n",
    "layer = model_generator.get_layer(name=layer_name)\n",
    "\n",
    "# Get the weights of the layer\n",
    "weights = layer.get_weights()\n",
    "\n",
    "# Print the weights\n",
    "print(f\"Weights of layer {layer_name}:\")\n",
    "for weight in weights:\n",
    "    print(weight.shape)\n",
    "    print(weight[:20].mean())\n",
    "    print(weight[20:].mean())\"\"\""
   ]
  },
  {
   "cell_type": "code",
   "execution_count": 69,
   "metadata": {},
   "outputs": [
    {
     "name": "stdout",
     "output_type": "stream",
     "text": [
      "(200, 32, 25)\n"
     ]
    }
   ],
   "source": [
    "X_autoencoder_compressed=model_classifier2(X_autoencoder/255)\n",
    "print(X_autoencoder_compressed[0].shape)\n",
    "X_autoencoder_compressed=np.array(X_autoencoder_compressed)"
   ]
  },
  {
   "cell_type": "code",
   "execution_count": null,
   "metadata": {},
   "outputs": [],
   "source": []
  },
  {
   "cell_type": "code",
   "execution_count": 70,
   "metadata": {},
   "outputs": [
    {
     "data": {
      "text/plain": [
       "'X_train_compressed1 = []\\nfor i in range(200):\\n    # Create concatenated input from both real and imaginary parts\\n    current_sample = X_autoencoder_compressed[0][i:i+1]\\n    X_train_compressed1 += np.repeat(current_sample, repeats=200, axis=0).tolist()\\nX_train_compressed1 = np.array(X_train_compressed1)'"
      ]
     },
     "execution_count": 70,
     "metadata": {},
     "output_type": "execute_result"
    }
   ],
   "source": [
    "\"\"\"X_train_compressed1 = []\n",
    "for i in range(200):\n",
    "    # Create concatenated input from both real and imaginary parts\n",
    "    current_sample = X_autoencoder_compressed[0][i:i+1]\n",
    "    X_train_compressed1 += np.repeat(current_sample, repeats=200, axis=0).tolist()\n",
    "X_train_compressed1 = np.array(X_train_compressed1)\"\"\""
   ]
  },
  {
   "cell_type": "code",
   "execution_count": 71,
   "metadata": {},
   "outputs": [],
   "source": [
    "#X_train_compressed1.shape"
   ]
  },
  {
   "cell_type": "code",
   "execution_count": 72,
   "metadata": {},
   "outputs": [
    {
     "data": {
      "text/plain": [
       "'X_train_compressed2 = []\\nfor i in range(200):\\n    # Create concatenated input from both real and imaginary parts\\n    current_sample = X_autoencoder_compressed[1][i:i+1]\\n    X_train_compressed2 += np.repeat(current_sample, repeats=200, axis=0).tolist()\\nX_train_compressed2 = np.array(X_train_compressed2)'"
      ]
     },
     "execution_count": 72,
     "metadata": {},
     "output_type": "execute_result"
    }
   ],
   "source": [
    "\"\"\"X_train_compressed2 = []\n",
    "for i in range(200):\n",
    "    # Create concatenated input from both real and imaginary parts\n",
    "    current_sample = X_autoencoder_compressed[1][i:i+1]\n",
    "    X_train_compressed2 += np.repeat(current_sample, repeats=200, axis=0).tolist()\n",
    "X_train_compressed2 = np.array(X_train_compressed2)\"\"\""
   ]
  },
  {
   "cell_type": "code",
   "execution_count": 73,
   "metadata": {},
   "outputs": [],
   "source": [
    "#X_train_compressed=[X_train_compressed1,X_train_compressed2]"
   ]
  },
  {
   "cell_type": "code",
   "execution_count": 79,
   "metadata": {},
   "outputs": [],
   "source": [
    "x=model_generator([X_autoencoder_compressed[0],X_autoencoder_compressed[1]])\n",
    "y=model_generator([X_autoencoder_compressed[0],X_autoencoder_compressed[1]])"
   ]
  },
  {
   "cell_type": "code",
   "execution_count": 75,
   "metadata": {},
   "outputs": [
    {
     "data": {
      "text/plain": [
       "'import numpy as np\\nfrom sklearn.cluster import KMeans\\n\\n# Assuming your data is a 200x25 NumPy array\\n\\n# Initialize KMeans with the desired number of clusters (e.g., 5 clusters)\\nX_pca=X_autoencoder_compressed[:,0,:]\\nkmeans = KMeans(n_clusters=10, random_state=42)\\n\\n# Fit the model to the data\\nkmeans.fit(X_pca)\\n\\n# Get the cluster labels\\nlabels = kmeans.labels_\\n\\n# Print the labels\\nprint(labels)'"
      ]
     },
     "execution_count": 75,
     "metadata": {},
     "output_type": "execute_result"
    }
   ],
   "source": [
    "\"\"\"import numpy as np\n",
    "from sklearn.cluster import KMeans\n",
    "\n",
    "# Assuming your data is a 200x25 NumPy array\n",
    "\n",
    "# Initialize KMeans with the desired number of clusters (e.g., 5 clusters)\n",
    "X_pca=X_autoencoder_compressed[:,0,:]\n",
    "kmeans = KMeans(n_clusters=10, random_state=42)\n",
    "\n",
    "# Fit the model to the data\n",
    "kmeans.fit(X_pca)\n",
    "\n",
    "# Get the cluster labels\n",
    "labels = kmeans.labels_\n",
    "\n",
    "# Print the labels\n",
    "print(labels)\"\"\"\n"
   ]
  },
  {
   "cell_type": "code",
   "execution_count": 80,
   "metadata": {},
   "outputs": [],
   "source": [
    "#X_autoencoder_compressed"
   ]
  },
  {
   "cell_type": "code",
   "execution_count": 81,
   "metadata": {},
   "outputs": [
    {
     "data": {
      "text/plain": [
       "<tf.Tensor: shape=(32,), dtype=float32, numpy=\n",
       "array([-0.74663645, -0.8219425 , -0.7665651 , -0.65561736, -0.4730778 ,\n",
       "       -0.4139045 , -0.4032091 , -0.4349712 , -0.512594  , -0.48659727,\n",
       "       -0.45720544, -0.41234988, -0.4574712 , -0.522609  , -0.40798107,\n",
       "       -0.25337017, -0.15459882, -0.23925388, -0.5559104 , -0.9471142 ,\n",
       "       -1.2423453 , -1.5528711 , -1.7409469 , -1.7790248 , -1.44449   ,\n",
       "       -0.9179803 , -0.13472137,  0.4740832 ,  0.73634833,  1.02109   ,\n",
       "        0.927867  ,  0.10022953], dtype=float32)>"
      ]
     },
     "execution_count": 81,
     "metadata": {},
     "output_type": "execute_result"
    }
   ],
   "source": [
    "y[21,:,6]"
   ]
  },
  {
   "cell_type": "code",
   "execution_count": 82,
   "metadata": {},
   "outputs": [
    {
     "data": {
      "text/plain": [
       "'plt.plot(x[20,:,6])\\nplt.plot(x[40,:,6])\\nplt.plot(x[60,:,6])\\nplt.plot(x[80,:,6])\\nplt.plot(x[100,:,6])\\nplt.plot(x[120,:,6])\\nplt.plot(x[140,:,6])\\nplt.plot(x[160,:,6])'"
      ]
     },
     "execution_count": 82,
     "metadata": {},
     "output_type": "execute_result"
    },
    {
     "data": {
      "image/png": "[encoded data removed]",
      "text/plain": [
       "<Figure size 640x480 with 1 Axes>"
      ]
     },
     "metadata": {},
     "output_type": "display_data"
    }
   ],
   "source": [
    "plt.plot(x[21,:,6])\n",
    "plt.plot(y[21,:,6])\n",
    "\"\"\"plt.plot(x[20,:,6])\n",
    "plt.plot(x[40,:,6])\n",
    "plt.plot(x[60,:,6])\n",
    "plt.plot(x[80,:,6])\n",
    "plt.plot(x[100,:,6])\n",
    "plt.plot(x[120,:,6])\n",
    "plt.plot(x[140,:,6])\n",
    "plt.plot(x[160,:,6])\"\"\""
   ]
  },
  {
   "cell_type": "code",
   "execution_count": 83,
   "metadata": {},
   "outputs": [
    {
     "data": {
      "text/plain": [
       "'model_discriminator8=Model_discriminator(50, 50, 35, 35, 20, 10)\\nmodel_discriminator9=Model_discriminator(50, 50, 35, 35, 20, 10)'"
      ]
     },
     "execution_count": 83,
     "metadata": {},
     "output_type": "execute_result"
    }
   ],
   "source": [
    "class Model_discriminator(tf.keras.Model):\n",
    "    def __init__(self, units1, units2, units3, units4, units5,units6,  **kwargs):\n",
    "        super(Model_discriminator, self).__init__(**kwargs)\n",
    "\n",
    "        # osc1\n",
    "        self.d1_r = tf.keras.layers.Dense(units1, activation='relu')\n",
    "        self.d1_i = tf.keras.layers.Dense(units1, activation='relu')\n",
    "        self.d1n4_r = TimeDistributed(BatchNormalization())  # Added BatchNorm\n",
    "        self.d1n4_i = TimeDistributed(BatchNormalization())  # Added BatchNorm\n",
    "        self.osc1 = Hopf(units2, num_steps=duration, min_omega=0.1, max_omega=64.1, train_omegas=True)\n",
    "\n",
    "        # osc2\n",
    "        self.d2_r = tf.keras.layers.Dense(units3, activation='relu')\n",
    "        self.d2_i = tf.keras.layers.Dense(units3, activation='relu')\n",
    "        self.d2n4_r = TimeDistributed(BatchNormalization())  # Added BatchNorm\n",
    "        self.d2n4_i = TimeDistributed(BatchNormalization())\n",
    "        self.osc2 = Hopf(units4, num_steps=duration, min_omega=0.1, max_omega=64.1, train_omegas=True)\n",
    "\n",
    "        # New layers beyond osc2\n",
    "        self.d3_r = tf.keras.layers.Dense(units5, activation='tanh')\n",
    "        self.d3_i = tf.keras.layers.Dense(units5, activation='tanh')\n",
    "        #self.d4 = tf.keras.layers.Dense(units7, activation='tanh')\n",
    "        self.d3n4=TimeDistributed(BatchNormalization()) \n",
    "        self.out_dense = tf.keras.layers.Dense(units6, activation='linear')\n",
    "    \n",
    "    def call(self, X):\n",
    "        X1 = tf.identity(X)\n",
    "        out1_r = tf.keras.layers.TimeDistributed(self.d1_r)(X1)\n",
    "        out1_i = tf.keras.layers.TimeDistributed(self.d1_i)(X1)\n",
    "        out1_r=self.d1n4_r(out1_r)\n",
    "        out1_i=self.d1n4_i(out1_i)\n",
    "        z1_r, z1_i = self.osc1(out1_r, out1_i)\n",
    "\n",
    "        out2_r = tf.keras.layers.TimeDistributed(self.d2_r)(z1_r)\n",
    "        out2_i = tf.keras.layers.TimeDistributed(self.d2_i)(z1_i)\n",
    "        out2_r=self.d2n4_r(out2_r)\n",
    "        out2_i=self.d2n4_i(out2_i)\n",
    "        z2_r, z2_i = self.osc2(out2_r, out2_i)\n",
    "\n",
    "        out3_r = tf.keras.layers.TimeDistributed(self.d3_r)(z2_r)\n",
    "        out3_i = tf.keras.layers.TimeDistributed(self.d3_i)(z2_i)\n",
    "        concat_inp = tf.concat([out3_r, out3_i], 2)\n",
    "        concat_inp=self.d3n4(concat_inp)\n",
    "        #out4 = tf.keras.layers.TimeDistributed(self.d4)(concat_inp)\n",
    "        out_final = tf.keras.layers.TimeDistributed(self.out_dense)(concat_inp)\n",
    "\n",
    "        return out_final\n",
    "\n",
    "#model_discriminator=Model_discriminator(7, 7, 4, 4, 3, 2)\n",
    "#model_discriminator=Model_discriminator(30, 30, 20, 20, 15, 10)\n",
    "\n",
    "model_discriminator1=Model_discriminator(50, 50, 35, 35, 20, 10)\n",
    "model_discriminator2=Model_discriminator(50, 50, 35, 35, 20, 10)\n",
    "model_discriminator3=Model_discriminator(50, 50, 35, 35, 20, 10)\n",
    "model_discriminator4=Model_discriminator(50, 50, 35, 35, 20, 10)\n",
    "model_discriminator5=Model_discriminator(50, 50, 35, 35, 20, 10)\n",
    "model_discriminator6=Model_discriminator(50, 50, 35, 35, 20, 10)\n",
    "model_discriminator7=Model_discriminator(50, 50, 35, 35, 20, 10)\n",
    "\"\"\"model_discriminator8=Model_discriminator(50, 50, 35, 35, 20, 10)\n",
    "model_discriminator9=Model_discriminator(50, 50, 35, 35, 20, 10)\"\"\""
   ]
  },
  {
   "cell_type": "code",
   "execution_count": 15,
   "metadata": {},
   "outputs": [
    {
     "name": "stderr",
     "output_type": "stream",
     "text": [
      "c:\\Users\\Admin\\AppData\\Local\\Programs\\Python\\Python312\\Lib\\site-packages\\keras\\src\\layers\\layer.py:391: UserWarning: `build()` was called on layer 'model_1', however the layer does not have a `build()` method implemented and it looks like it has unbuilt state. This will cause the layer to be marked as built, despite not being actually built, which may cause failures down the line. Make sure to implement a proper `build()` method.\n",
      "  warnings.warn(\n"
     ]
    }
   ],
   "source": [
    "\n",
    "\n",
    "class Model(tf.keras.Model):\n",
    "\n",
    "    def __init__(self, units1, units2,units3,units4,units5, **kwargs):\n",
    "\n",
    "        super(Model, self).__init__(**kwargs)\n",
    "\n",
    "        self.d1_r = tf.keras.layers.Dense(units1,activation='relu') # 1st relu layer(real) with neuron=units1\n",
    "        self.d1_i = tf.keras.layers.Dense(units1,activation='relu')# 1st relu layer(imag) with neuron=units1\n",
    "\n",
    "        self.osc1 = Hopf(units2, num_steps=32,min_omega=0.1, max_omega=64.1,train_omegas=True) # 1st osc layer=units2=units1\n",
    "\n",
    "        self.d_r = tf.keras.layers.Dense(units3,activation='tanh') # 1st relu layer(real) with neuron=units1\n",
    "        self.d_i = tf.keras.layers.Dense(units3,activation='tanh')# 1st relu layer(imag) with neuron=units1\n",
    "        \n",
    "        \n",
    "        self.dense = tf.keras.layers.Dense(units4, activation='relu') # 2nd relu layer,units3\n",
    "\n",
    "        #self.d2_dr = tf.keras.layers.Dense(units4, activation='linear') #last tanh layer,units5\n",
    "        #self.d2_i = tf.keras.layers.Dense(units4, activation='linear') #last tanh layer,units5\n",
    "        # self.dense2= tf.keras.layers.Dense(units5, activation='relu') # 2nd relu layer,units3\n",
    "\n",
    "        self.out_dense = tf.keras.layers.Dense(units5, activation='linear')# output node, units6, with tanh\n",
    "\n",
    "    def call(self, X):\n",
    "\n",
    "        out1_r = tf.keras.layers.TimeDistributed(self.d1_r)(X)\n",
    "        out1_i = tf.keras.layers.TimeDistributed(self.d1_i)(X)\n",
    "\n",
    "        z1_r, z1_i = self.osc1(out1_r, out1_i)\n",
    "\n",
    "\n",
    "        #concat_inp=tf.concat([z1_r, z1_i],2)\n",
    "        out2_r = tf.keras.layers.TimeDistributed(self.d_r)(z1_r)\n",
    "        out2_i = tf.keras.layers.TimeDistributed(self.d_i)(z1_i)\n",
    "\n",
    "        concat_inp=tf.concat([out2_r,out2_i],2)\n",
    "        # lstmout=self.lstm(concat_inp)\n",
    "        \n",
    "        #out3_r = tf.keras.layers.TimeDistributed(self.d2_r)(out2_r)\n",
    "        #out3_i = tf.keras.layers.TimeDistributed(self.d2_i)(out2_i)\n",
    "        #out3=tf.concat([out3_r,out3_i],2)\n",
    "        denseout=tf.keras.layers.TimeDistributed(self.dense)(concat_inp)\n",
    "        # denseout2=tf.keras.layers.TimeDistributed(self.dense2)(denseout)\n",
    "        out_final = tf.keras.layers.TimeDistributed(self.out_dense)(denseout)\n",
    "        return out_final\n",
    "\n",
    "model_signal_classifier = Model(250,250,128,64,10)\n",
    "optimizer = tf.keras.optimizers.Adam(0.01)\n",
    "\n",
    "model_signal_classifier.build(input_shape=(40000,32,14))\n",
    "model_signal_classifier.compile(optimizer, 'mse', metrics=['accuracy'])\n",
    "\n",
    "\n",
    "\n",
    "\n",
    "\n",
    "a=model_signal_classifier(squeezed_data[:1])"
   ]
  },
  {
   "cell_type": "code",
   "execution_count": 16,
   "metadata": {},
   "outputs": [
    {
     "name": "stdout",
     "output_type": "stream",
     "text": [
      "Loaded weights for layer 0 from ../classifier-weights/layer_0_weights_sravan.npy\n",
      "Loaded weights for layer 1 from ../classifier-weights/layer_1_weights_sravan.npy\n",
      "oscillatory layer\n",
      "Loaded weights for layer 3 from ../classifier-weights/layer_3_weights_sravan.npy\n",
      "Loaded weights for layer 4 from ../classifier-weights/layer_4_weights_sravan.npy\n",
      "Loaded weights for layer 5 from ../classifier-weights/layer_5_weights_sravan.npy\n",
      "Loaded weights for layer 6 from ../classifier-weights/layer_6_weights_sravan.npy\n"
     ]
    }
   ],
   "source": [
    "for i, layer in enumerate(model_signal_classifier.layers):\n",
    "    weights_file = f'../classifier-weights/layer_{i}_weights_sravan.npy'\n",
    "    bias_file=f'../classifier-weights/layer_{i}_bias_sravan.npy'  # Adjust if you saved as .h5\n",
    "    try:\n",
    "        weights =[ np.load(bias_file),np.load(weights_file)]\n",
    "        layer.set_weights(weights)\n",
    "        print(f\"Loaded weights for layer {i} from {weights_file}\")\n",
    "    except Exception as e:\n",
    "        model_signal_classifier.osc1.omegas=tf.constant(np.load(\"../classifier-weights/Osc_omegas_sravan.npy\"))\n",
    "        print(f\"oscillatory layer\")"
   ]
  },
  {
   "cell_type": "code",
   "execution_count": 86,
   "metadata": {},
   "outputs": [],
   "source": [
    "#y_test_signals=np.squeeze(y_test_signals,axis=-1)\n",
    "#y_test_signals=np.transpose(y_test_signals,(0,2,1))"
   ]
  },
  {
   "cell_type": "code",
   "execution_count": 87,
   "metadata": {},
   "outputs": [],
   "source": [
    "#y_test_signals.shape"
   ]
  },
  {
   "cell_type": "code",
   "execution_count": 88,
   "metadata": {},
   "outputs": [
    {
     "data": {
      "text/plain": [
       "(40000, 32, 14)"
      ]
     },
     "execution_count": 88,
     "metadata": {},
     "output_type": "execute_result"
    }
   ],
   "source": [
    "y_train_all.shape"
   ]
  },
  {
   "cell_type": "code",
   "execution_count": 89,
   "metadata": {},
   "outputs": [],
   "source": [
    "#y_test_pred=model_signal_classifier.predict(squeezed_data1)"
   ]
  },
  {
   "cell_type": "code",
   "execution_count": 91,
   "metadata": {},
   "outputs": [
    {
     "data": {
      "text/plain": [
       "'import numpy as np\\n\\n# Generate 1000 random indices\\nnp.random.seed(42)  # for reproducibility\\nrandom_indices = np.random.choice(y_test_pred.shape[0], size=1000, replace=False)\\n\\n# Select the samples using these indices\\nsqueezed_data1_sample = squeezed_data1[random_indices]\\nX_test_compressed_sample =[ X_test_compressed[0][random_indices],X_test_compressed[1][random_indices]]\\ny_test_pred_sample = model_generator.predict(X_test_compressed_sample)\\ny_test_classify_pred=model_signal_classifier.predict(y_test_pred_sample)\\ny_test_classify_sample = y_test_classify[random_indices]\\n\\n# Print shapes to verify\\n\\n# Calculate accuracy for the sampled data\\naccuracy = signal_classifying_accuracy(y_test_classify_sample, y_test_classify_pred)\\nprint(\"Classification accuracy on sampled data:\", accuracy)'"
      ]
     },
     "execution_count": 91,
     "metadata": {},
     "output_type": "execute_result"
    }
   ],
   "source": [
    "\"\"\"import numpy as np\n",
    "\n",
    "# Generate 1000 random indices\n",
    "np.random.seed(42)  # for reproducibility\n",
    "random_indices = np.random.choice(y_test_pred.shape[0], size=1000, replace=False)\n",
    "\n",
    "# Select the samples using these indices\n",
    "squeezed_data1_sample = squeezed_data1[random_indices]\n",
    "X_test_compressed_sample =[ X_test_compressed[0][random_indices],X_test_compressed[1][random_indices]]\n",
    "y_test_pred_sample = model_generator.predict(X_test_compressed_sample)\n",
    "y_test_classify_pred=model_signal_classifier.predict(y_test_pred_sample)\n",
    "y_test_classify_sample = y_test_classify[random_indices]\n",
    "\n",
    "# Print shapes to verify\n",
    "\n",
    "# Calculate accuracy for the sampled data\n",
    "accuracy = signal_classifying_accuracy(y_test_classify_sample, y_test_classify_pred)\n",
    "print(\"Classification accuracy on sampled data:\", accuracy)\"\"\""
   ]
  },
  {
   "cell_type": "code",
   "execution_count": 92,
   "metadata": {},
   "outputs": [
    {
     "data": {
      "text/plain": [
       "'y_test_gen=model_generator.predict(X_test_compressed)\\ny_classify_gen=model_signal_classifier.predict(y_test_gen)'"
      ]
     },
     "execution_count": 92,
     "metadata": {},
     "output_type": "execute_result"
    }
   ],
   "source": [
    "\"\"\"y_test_gen=model_generator.predict(X_test_compressed)\n",
    "y_classify_gen=model_signal_classifier.predict(y_test_gen)\"\"\""
   ]
  },
  {
   "cell_type": "code",
   "execution_count": 93,
   "metadata": {},
   "outputs": [
    {
     "data": {
      "text/plain": [
       "'y_train_gen=model_generator.predict(X_train_compressed)\\ny_classify_gen_train=model_signal_classifier.predict(y_train_gen)\\nsignal_classifying_accuracy(y_train_classify,y_classify_gen_train)'"
      ]
     },
     "execution_count": 93,
     "metadata": {},
     "output_type": "execute_result"
    }
   ],
   "source": [
    "\"\"\"y_train_gen=model_generator.predict(X_train_compressed)\n",
    "y_classify_gen_train=model_signal_classifier.predict(y_train_gen)\n",
    "signal_classifying_accuracy(y_train_classify,y_classify_gen_train)\"\"\""
   ]
  },
  {
   "cell_type": "code",
   "execution_count": 95,
   "metadata": {},
   "outputs": [],
   "source": [
    "import tensorflow as tf\n",
    "import numpy as np\n",
    "#@tf.function\n",
    "def generator_loss_ramp(y_true,y_pred,y_classify,fake_discriminator,alpha=0.01,beta=0.01,batch=100):\n",
    "    \"\"\"ramp_y=ramp_classifier_output(labels,10)/2\n",
    "    ramp_y=tf.cast(ramp_y,tf.float32)\"\"\"\n",
    "    fake_discriminator=tf.cast(fake_discriminator,tf.float32)\n",
    "    y_true = tf.cast(y_true, tf.float32)\n",
    "    y_pred = tf.cast(y_pred, tf.float32)\n",
    "    mse = tf.keras.losses.MeanSquaredError()\n",
    "    A= mse(y_classify, fake_discriminator)\n",
    "    #B= mse(y_true, y_pred)\n",
    "    #B=tf.reduce_mean(y_true)-tf.reduce_mean(y_pred)\n",
    "    B = (tf.math.reduce_mean(y_pred, axis=0) - tf.math.reduce_mean(y_true, axis=0)) ** 2\n",
    "    \n",
    "    l2_loss = (1-alpha)*A+  beta*mse(y_true,y_pred)+alpha*B#+beta*diversity_loss\n",
    "    l2_loss = tf.reduce_mean(l2_loss)\n",
    "    return [A,B,l2_loss]\n",
    "\n",
    "def generator_loss_ramp1(y_true,y_pred,y_classify,fake_discriminators,alpha=0.01,beta=0.01,batch=100):\n",
    "    \"\"\"ramp_y=ramp_classifier_output(labels,10)/2\n",
    "    ramp_y=tf.cast(ramp_y,tf.float32)\"\"\"\n",
    "    fake_discriminators=[tf.cast(fake_discriminators[i],tf.float32) for i in range(4)]\n",
    "    y_true = tf.cast(y_true, tf.float32)\n",
    "    y_pred = tf.cast(y_pred, tf.float32)\n",
    "    mse = tf.keras.losses.MeanSquaredError()\n",
    "    A1= mse(y_classify, fake_discriminators[0])\n",
    "    A2= mse(y_classify, fake_discriminators[1])\n",
    "    A3= mse(y_classify, fake_discriminators[2])\n",
    "    A4= mse(y_classify, fake_discriminators[3])\n",
    "    #A5= mse(y_classify, fake_discriminators[4])\n",
    "    #A6= mse(y_classify, fake_discriminators[5])\n",
    "    #A7= mse(y_classify, fake_discriminators[6])\n",
    "    \"\"\"A8= mse(y_classify, fake_discriminators[7])\n",
    "    A9= mse(y_classify, fake_discriminators[8])\"\"\"\n",
    "    #B= mse(y_true, y_pred)\n",
    "    #B=tf.reduce_mean(y_true)-tf.reduce_mean(y_pred)\n",
    "    #A=[A1,A2,A3,A4,A5,A6,A7,A8,A9]\n",
    "    A=[A1,A2,A3,A4]#],A4,A5]\n",
    "    B = (tf.math.reduce_mean(y_pred, axis=0) - tf.math.reduce_mean(y_true, axis=0)) ** 2\n",
    "    l2_loss = (1-alpha)/4*A1+(1-alpha)/4*A2+(1-alpha)/4*A3+(1-alpha)/4*A4+beta*mse(y_true,y_pred)+alpha*B#+beta*diversity_loss\n",
    "    \n",
    "    #l2_loss = (1-alpha)/9*A1+(1-alpha)/9*A2+(1-alpha)/9*A3+(1-alpha)/9*A4+(1-alpha)/9*A5+ (1-alpha)/9*A6+(1-alpha)/9*A7+(1-alpha)/9*A8+ (1-alpha)/9*A9+   beta*mse(y_true,y_pred)+alpha*B#+beta*diversity_loss\n",
    "    l2_loss = tf.reduce_mean(l2_loss)\n",
    "    return [A,B,l2_loss]\n",
    "def generator_loss_ramp2(y_true, y_pred, y_classify, fake_discriminators, alpha=0.01, beta=0.01, batch=100):\n",
    "\n",
    "    # Cast inputs to float32\n",
    "    fake_discriminators = [tf.cast(fake_discriminators[i], tf.float32) for i in range(4)]\n",
    "    #fake_discriminators_out=tf.concat(fake_discriminators,axis=-1)\n",
    "    y_true = tf.cast(y_true, tf.float32)\n",
    "    y_pred = tf.cast(y_pred, tf.float32)\n",
    "    \n",
    "    mse = tf.keras.losses.MeanSquaredError()\n",
    "    \n",
    "    # Calculate individual losses for each discriminator (per sample in batch)\n",
    "    # Shape of each A_i: [batch_size]\n",
    "    A1 = tf.reduce_mean((y_classify-fake_discriminators[0])**2,axis=0)\n",
    "    A2 = tf.reduce_mean((y_classify-fake_discriminators[1]**2),axis=0)\n",
    "    A3 = tf.reduce_mean((y_classify-fake_discriminators[2])**2,axis=0)\n",
    "    A4 = tf.reduce_mean((y_classify-fake_discriminators[3])**2,axis=0)\n",
    "    #A2 = mse(y_classify, fake_discriminators[1])\n",
    "    #A3 = mse(y_classify, fake_discriminators[2])\n",
    "    #A4 = mse(y_classify, fake_discriminators[3])\n",
    "    #tf.print(A1)\n",
    "    #print(A1.numpy())\n",
    "    stacked_losses = tf.stack([A1, A2, A3, A4], axis=-1)\n",
    "    \n",
    "    # Find the minimum loss for each input in the batch\n",
    "    min_losses = tf.reduce_min(stacked_losses, axis=-1, keepdims=True)\n",
    "    \n",
    "    # Create a mask that gives higher importance to the discriminator with minimum loss\n",
    "    # First identify which loss is minimum for each sample\n",
    "    min_loss_indices = tf.argmin(stacked_losses, axis=-1)\n",
    "    #tf.print(min_loss_indices)\n",
    "    #print(min_loss_indices.numpy())\n",
    "    #print(min_loss_indices.shape)\n",
    "    \n",
    "    # Create importance weights - the classifier with minimum loss gets higher weight\n",
    "    # Convert to one-hot encoding\n",
    "    one_hot_min = tf.one_hot(min_loss_indices, depth=4)\n",
    "    #print(A1*one_hot_min)\n",
    "    #print(one_hot_min.numpy())\n",
    "    #print(one_hot_min.shape)\n",
    "    # Create a weighted importance factor\n",
    "    # Classifiers with minimum loss get weight factor of 0.6, others share the remaining 0.4\n",
    "    # You can adjust these values as needed\n",
    "    importance_factor = 0.7 * one_hot_min + 0.1 * (1 - one_hot_min)\n",
    "    \n",
    "    # Calculate weighted discriminator loss for each sample\n",
    "    # Shape: [batch_size, 5]\n",
    "    #stacked_losses=tf.transpose(stacked_losses, perm=[0, 2, 1])\n",
    "    #  b=importance_factor*y_pred\n",
    "\n",
    "    weighted_disc_losses = (1 - alpha) * importance_factor * stacked_losses\n",
    "    \n",
    "    # Sum across all discriminators for each sample\n",
    "    # Shape: [batch_size]\n",
    "    total_disc_loss = tf.reduce_sum(weighted_disc_losses, axis=0)\n",
    "    total_disc_loss = tf.reduce_mean(total_disc_loss)\n",
    "    # Calculate MSE reconstruction loss\n",
    "    reconstruction_loss = mse(y_true, y_pred)\n",
    "    \n",
    "    # Calculate distribution matching loss (same as original)\n",
    "    distribution_loss = (tf.math.reduce_mean(y_pred, axis=0) - tf.math.reduce_mean(y_true, axis=0)) ** 2\n",
    "    \n",
    "    # Combine all losses\n",
    "    final_loss = total_disc_loss + beta * reconstruction_loss + alpha * distribution_loss\n",
    "    \n",
    "    # Reduce to scalar\n",
    "    final_loss = tf.reduce_mean(final_loss)\n",
    "    \n",
    "    # For monitoring individual losses\n",
    "    A = [tf.reduce_mean(A1), tf.reduce_mean(A2), tf.reduce_mean(A3), tf.reduce_mean(A4)]#, tf.reduce_mean(A5)]\n",
    "    B = tf.reduce_mean(distribution_loss)\n",
    "    \n",
    "    return [A, B, final_loss]\n",
    "def generator_loss_ce(y_true,y_pred,y_classify,fake_discriminator,alpha=0.0,batch=100):\n",
    "    \"\"\"ce_y=cross_entropy_output(labels,10)/2\n",
    "    ce_y=tf.cast(ce_y,tf.float32)\"\"\"\n",
    "    fake_discriminator=tf.cast(fake_discriminator,tf.float32)\n",
    "    y_true = tf.cast(y_true, tf.float32)\n",
    "    y_pred = tf.cast(y_pred, tf.float32)\n",
    "    ce = tf.keras.losses.CategoricalCrossentropy()\n",
    "    mse = tf.keras.losses.MeanSquaredError()\n",
    "    A= ce(y_classify, fake_discriminator)\n",
    "    B= mse(y_true, y_pred)\n",
    "    l2_loss = (1-alpha)*A+alpha*B\n",
    "    l2_loss = tf.reduce_mean(l2_loss)\n",
    "    return [A,B,l2_loss]\n",
    "\n",
    "def discriminator_loss_ramp(y_true, y_pred,y_classify,y_gen,batch=100):\n",
    "\n",
    "    #concatenated = tf.concat([y_true, y_pred], axis=2)\n",
    "    \"\"\"labels=np.array(labels)\n",
    "    labels_gen=10*np.ones(batch)\"\"\"\n",
    "    #labels_concat=tf.concat([labels,y_gen],axis=2)\n",
    "    #ramp_y=tf.concat([ramp_classifier_output(labels,10)/2,ramp_classifier_output(labels_gen,10)/2],axis=0)\n",
    "    mse = tf.keras.losses.MeanSquaredError()\n",
    "    loss=mse(y_true, y_classify)\n",
    "    loss=tf.reduce_mean(loss)\n",
    "    return loss\n",
    "\n",
    "def discriminator_loss_ce(y_true, y_pred,y_classify,y_gen,batch=100):\n",
    "\n",
    "    concatenated = tf.concat([y_true, y_pred], axis=2)\n",
    "    #labels=np.array(labels)\n",
    "    #labels_gen=10*np.ones(batch)\n",
    "    labels_concat=tf.concat([y_classify,y_gen],axis=2)\n",
    "    #ce_y=tf.concat([cross_entropy_output_tf(labels,10)/2,cross_entropy_output_tf(labels_gen,10)/2],axis=0)\n",
    "    ce = tf.keras.losses.CategoricalCrossentropy()\n",
    "    loss=ce(concatenated, labels_concat)\n",
    "    loss=tf.reduce_mean(loss)\n",
    "    return loss\n",
    "\n",
    "\n"
   ]
  },
  {
   "cell_type": "code",
   "execution_count": 96,
   "metadata": {},
   "outputs": [],
   "source": [
    "generator_optimizer = tf.keras.optimizers.Adam(learning_rate=1e-4)\n",
    "discriminator_optimizers = [tf.keras.optimizers.Adam(learning_rate=1e-3) for i in range(7)]"
   ]
  },
  {
   "cell_type": "code",
   "execution_count": 97,
   "metadata": {},
   "outputs": [],
   "source": [
    "@tf.function\n",
    "def train_step(X_img, y_eeg, y_classify,y_labels,y_gen, model_generator, model_discriminator, generator_loss, discriminator_loss, clip_value=1.0,batch_size=100):\n",
    "    \n",
    "    y_labels = tf.cast(y_labels, tf.float32)\n",
    "    y_classify = tf.cast(y_classify, tf.float32)\n",
    "    y_eeg = tf.cast(y_eeg, tf.float32)\n",
    "    y_gen=tf.cast(y_gen,tf.float32)\n",
    "    discriminator_loss=discriminator_loss\n",
    "    generator_loss=generator_loss\n",
    "    # Train the discriminator\n",
    "    with tf.GradientTape() as disc_tape:\n",
    "        #generated_data = model_generator(X_img, training=True)  # Generate fake data once here\n",
    "        \n",
    "        # Concatenate real and generated data for discriminator\n",
    "        real_output = model_discriminator(y_eeg, training=True)\n",
    "        #fake_output = model_discriminator(generated_data, training=True)\n",
    "        \n",
    "        # Compute discriminator loss\n",
    "        disc_loss = discriminator_loss(real_output, _,y_classify,y_gen)\n",
    "    \n",
    "    # Compute gradients for discriminator\n",
    "    gradients_of_discriminator = disc_tape.gradient(disc_loss, model_discriminator.trainable_variables)\n",
    "    \n",
    "    # Clip the gradients for discriminator\n",
    "    gradients_of_discriminator = [tf.clip_by_value(grad, -clip_value, clip_value) for grad in gradients_of_discriminator]\n",
    "    #print(gradients_of_discriminator)\n",
    "    # Apply clipped gradients for discriminator\n",
    "    discriminator_optimizers[0].apply_gradients(zip(gradients_of_discriminator, model_discriminator.trainable_variables))\n",
    "\n",
    "    # Train the generator\n",
    "    with tf.GradientTape() as gen_tape:\n",
    "        # Reuse the same generated data for the generator\n",
    "        generated_data = model_generator(X_img, training=True)\n",
    "        \n",
    "        # Fake output for generator loss\n",
    "        fake_output = model_discriminator(generated_data, training=True)\n",
    "\n",
    "        \n",
    "\n",
    "        \n",
    "        # Compute generator loss\n",
    "        [A,B,gen_loss] = generator_loss(y_eeg, generated_data,y_classify, fake_output)\n",
    "    \n",
    "    # Compute gradients for generator\n",
    "    gradients_of_generator = gen_tape.gradient(gen_loss, model_generator.trainable_variables)\n",
    "    #print(gradients_of_generator)\n",
    "    # Clip the gradients for generator\n",
    "    gradients_of_generator = [tf.clip_by_value(grad, -clip_value, clip_value) for grad in gradients_of_generator]\n",
    "    \n",
    "    # Apply clipped gradients for generator\n",
    "    generator_optimizer.apply_gradients(zip(gradients_of_generator, model_generator.trainable_variables))\n",
    "    \n",
    "    # Optionally print losses for monitoring\n",
    "    \n",
    "    #print(A,B,gen_loss,disc_loss)\n",
    "    return A,B,gen_loss, disc_loss\n"
   ]
  },
  {
   "cell_type": "code",
   "execution_count": 98,
   "metadata": {},
   "outputs": [],
   "source": [
    "@tf.function\n",
    "def train_step(X_img, y_eeg, y_classify,y_labels,y_gen, model_generator, model_discriminators,generator_loss, discriminator_loss, clip_value=1.0,batch_size=100):\n",
    "    \n",
    "    y_labels = tf.cast(y_labels, tf.float32)\n",
    "    y_classify = tf.cast(y_classify, tf.float32)\n",
    "    y_eeg = tf.cast(y_eeg, tf.float32)\n",
    "    y_gen=tf.cast(y_gen,tf.float32)\n",
    "    discriminator_loss=discriminator_loss\n",
    "    generator_loss=generator_loss\n",
    "    # Train the discriminator\n",
    "    disc_losses=[]\n",
    "    for i in range(5):\n",
    "        model_discriminator=model_discriminators[i]\n",
    "        with tf.GradientTape() as disc_tape:\n",
    "            #generated_data = model_generator(X_img, training=True)  # Generate fake data once here\n",
    "        \n",
    "            # Concatenate real and generated data for discriminator\n",
    "            real_output = model_discriminator(y_eeg, training=True)\n",
    "            #fake_output = model_discriminator(generated_data, training=True)\n",
    "        \n",
    "            # Compute discriminator loss\n",
    "            disc_loss = discriminator_loss(real_output, _,y_classify,y_gen)\n",
    "            disc_losses.append(disc_loss)\n",
    "    \n",
    "        # Compute gradients for discriminator\n",
    "        gradients_of_discriminator = disc_tape.gradient(disc_loss, model_discriminator.trainable_variables)\n",
    "    \n",
    "        # Clip the gradients for discriminator\n",
    "        gradients_of_discriminator = [tf.clip_by_value(grad, -clip_value, clip_value) for grad in gradients_of_discriminator]\n",
    "        #print(gradients_of_discriminator)\n",
    "        # Apply clipped gradients for discriminator\n",
    "        discriminator_optimizers[i].apply_gradients(zip(gradients_of_discriminator, model_discriminator.trainable_variables))\n",
    "\n",
    "    # Train the generator\n",
    "    with tf.GradientTape() as gen_tape:\n",
    "        # Reuse the same generated data for the generator\n",
    "        generated_data = model_generator(X_img, training=True)\n",
    "        indices=np.random.randint(0,5,4)\n",
    "        # Fake output for generator loss\n",
    "        fake_outputs = [model_discriminators[i](generated_data, training=True) for i in indices]\n",
    "\n",
    "        print(len(fake_outputs))\n",
    "\n",
    "        \n",
    "        # Compute generator loss\n",
    "        [A,B,gen_loss] = generator_loss(y_eeg, generated_data,y_classify, fake_outputs)\n",
    "    \n",
    "    # Compute gradients for generator\n",
    "    gradients_of_generator = gen_tape.gradient(gen_loss, model_generator.trainable_variables)\n",
    "    #print(gradients_of_generator)\n",
    "    # Clip the gradients for generator\n",
    "    gradients_of_generator = [tf.clip_by_value(grad, -clip_value, clip_value) for grad in gradients_of_generator]\n",
    "    \n",
    "    # Apply clipped gradients for generator\n",
    "    generator_optimizer.apply_gradients(zip(gradients_of_generator, model_generator.trainable_variables))\n",
    "    \n",
    "    # Optionally print losses for monitoring\n",
    "    \n",
    "    #print(A,B,gen_loss,disc_loss)\n",
    "    return A,B,gen_loss, disc_losses\n"
   ]
  },
  {
   "cell_type": "code",
   "execution_count": 99,
   "metadata": {},
   "outputs": [],
   "source": [
    "@tf.function\n",
    "def train_step(datasets, X_img, y_eeg, y_classify, y_labels, y_gen, \n",
    "               model_generator, model_discriminators, generator_loss, \n",
    "               discriminator_loss, discriminator_optimizers, generator_optimizer, \n",
    "               clip_value=1.0, batch_size=250):\n",
    "    \n",
    "    # Cast inputs to float32\n",
    "    y_labels = tf.cast(y_labels, tf.float32)\n",
    "    y_classify = tf.cast(y_classify, tf.float32)\n",
    "    y_eeg = tf.cast(y_eeg, tf.float32)\n",
    "    y_gen = tf.cast(y_gen, tf.float32)\n",
    "    \n",
    "    # Sample random batches from the dataset for discriminator training\n",
    "    # We'll use the dataset.take() and dataset.skip() methods with random offsets\n",
    "    dataset_size =160\n",
    "    \n",
    "    # Train each discriminator on different batches\n",
    "    disc_losses = []\n",
    "    for i in range(7):\n",
    "        # Get a random index to sample from dataset\n",
    "        # This is outside the gradient tape so it's okay to use numpy operations\n",
    "        random_index = np.random.randint(0, dataset_size)\n",
    "        \n",
    "        # Skip to random position and take one batch\n",
    "        random_batch = next(iter(datasets.skip(random_index).take(1)))\n",
    "        \n",
    "        X_img1_batch, X_img2_batch, y_eeg_batch, y_classify_batch, y_labels_batch = random_batch\n",
    "        \n",
    "        # Cast batch data to float32\n",
    "        y_eeg_batch = tf.cast(y_eeg_batch, tf.float32)\n",
    "        y_classify_batch = tf.cast(y_classify_batch, tf.float32)\n",
    "        \n",
    "        model_discriminator = model_discriminators[i]\n",
    "        \n",
    "        with tf.GradientTape() as disc_tape:\n",
    "            # Train discriminator on this random batch\n",
    "            real_output = model_discriminator(y_eeg_batch, training=True)\n",
    "            \n",
    "            # Compute discriminator loss\n",
    "            disc_loss = discriminator_loss(real_output, _,y_classify_batch, y_gen)\n",
    "            disc_losses.append(disc_loss)\n",
    "        \n",
    "        # Compute and apply gradients for discriminator\n",
    "        gradients_of_discriminator = disc_tape.gradient(disc_loss, model_discriminator.trainable_variables)\n",
    "        gradients_of_discriminator = [tf.clip_by_value(grad, -clip_value, clip_value) \n",
    "                                     for grad in gradients_of_discriminator]\n",
    "        discriminator_optimizers[i].apply_gradients(\n",
    "            zip(gradients_of_discriminator, model_discriminator.trainable_variables))\n",
    "    \n",
    "    # Train the generator using the current batch passed to the function\n",
    "    with tf.GradientTape() as gen_tape:\n",
    "        # Generate fake data\n",
    "        generated_data = model_generator(X_img, training=True)\n",
    "        \n",
    "        # Randomly select 3 discriminators\n",
    "        indices = np.random.randint(0, 7, 5)\n",
    "        \n",
    "        # Get outputs from selected discriminators\n",
    "        fake_outputs = [model_discriminators[i](generated_data, training=True) for i in indices]\n",
    "        \n",
    "        # Compute generator loss\n",
    "        [A, B, gen_loss] = generator_loss(y_eeg, generated_data, y_classify, fake_outputs)\n",
    "    \n",
    "    # Compute and apply gradients for generator\n",
    "    gradients_of_generator = gen_tape.gradient(gen_loss, model_generator.trainable_variables)\n",
    "    gradients_of_generator = [tf.clip_by_value(grad, -clip_value, clip_value) \n",
    "                             for grad in gradients_of_generator]\n",
    "    generator_optimizer.apply_gradients(\n",
    "        zip(gradients_of_generator, model_generator.trainable_variables))\n",
    "    \n",
    "    return A, B, gen_loss, disc_losses"
   ]
  },
  {
   "cell_type": "code",
   "execution_count": 100,
   "metadata": {},
   "outputs": [],
   "source": [
    "#@tf.function\n",
    "def train(dataset,y_train_gen, epochs, model_generator, model_discriminator, generator_loss, discriminator_loss):\n",
    "    # Initialize losses\n",
    "    disc_loss = 0.0\n",
    "    gen_loss = 0.0\n",
    "    gen_losses=[]\n",
    "    disc_losses=[]\n",
    "    A=0.\n",
    "    B=0.\n",
    "    for epoch in range(epochs):\n",
    "        print(f\"Epoch {epoch + 1}/{epochs}\")\n",
    "        #k=0\n",
    "        # Initialize batch-level losses\n",
    "        for X_img1,X_img2, y_eeg, y_classify,y_labels in dataset:\n",
    "            X_img=[X_img1,X_img2]\n",
    "            A,B,gen_loss, disc_loss = train_step(X_img, y_eeg, y_classify,y_labels,y_train_gen, model_generator, model_discriminator, generator_loss, discriminator_loss,discriminator_optimizers,generator_optimizer)\n",
    "            \n",
    "        print(tf.reduce_mean(A),tf.reduce_mean(B))\n",
    "        print(f\"Generator Loss: {gen_loss}, Discriminator Loss: {disc_loss}\")\n",
    "        gen_losses.append(gen_loss)\n",
    "        disc_losses.append(disc_loss)\n",
    "    print(gen_losses)\n",
    "    print(disc_losses)\n",
    "\n"
   ]
  },
  {
   "cell_type": "code",
   "execution_count": 101,
   "metadata": {},
   "outputs": [],
   "source": [
    "def signal_classifying_accuracy(y_true, y_pred):\n",
    "    # Convert tensors to numpy arrays if necessary\n",
    "    y_true_np = np.array(y_true)\n",
    "    y_pred_np = np.array(y_pred)\n",
    "\n",
    "    # Initialize the counter\n",
    "    c = 0\n",
    "\n",
    "    # Vectorized operation to find the indices of the maximum values\n",
    "    y_true_indices = np.argmax(np.sum(y_true_np, axis=1), axis=1)\n",
    "    y_pred_indices = np.argmax(np.sum(y_pred_np, axis=1), axis=1)\n",
    "\n",
    "    # Compare the indices and count the matches\n",
    "    c = np.sum(y_true_indices == y_pred_indices)\n",
    "\n",
    "    # Calculate the accuracy\n",
    "    accuracy = c / len(y_true_np)\n",
    "    return accuracy"
   ]
  },
  {
   "cell_type": "code",
   "execution_count": 102,
   "metadata": {},
   "outputs": [],
   "source": [
    "#signal_classifying_accuracy(y_test_classify, y_test_pred)"
   ]
  },
  {
   "cell_type": "code",
   "execution_count": 103,
   "metadata": {},
   "outputs": [],
   "source": [
    "y_autoencoder=[0 for i in range(20)]+[1 for i in range(20)]+[2 for i in range(20)]+[3 for i in range(20)]+[4 for i in range(20)]+[5 for i in range(20)]+[6 for i in range(20)]+[7 for i in range(20)]+[8 for i in range(20)]+[9 for i in range(20)]\n",
    "\n",
    "y_autoencoder=np.array(y_autoencoder)\n",
    "y_autoencoder=ramp_classifier_output(y_autoencoder,n=10)"
   ]
  },
  {
   "cell_type": "code",
   "execution_count": 104,
   "metadata": {},
   "outputs": [],
   "source": [
    "#@tf.function\n",
    "def train(dataset,y_train_gen, epochs, model_generator, model_discriminators, generator_loss, discriminator_loss):\n",
    "    # Initialize losses\n",
    "    disc_loss = 0.0\n",
    "    gen_loss = 0.0\n",
    "    gen_losses=[]\n",
    "    disc_losses=[]\n",
    "    A=0.\n",
    "    B=0.\n",
    "    for epoch in range(epochs):\n",
    "        print(f\"Epoch {epoch + 1}/{epochs}\")\n",
    "        #k=0\n",
    "        # Initialize batch-level losses\n",
    "        for X_img1,X_img2, y_eeg, y_classify,y_labels in dataset:\n",
    "            X_img=[X_img1,X_img2]\n",
    "            A,B,gen_loss, disc_loss = train_step(dataset,X_img, y_eeg, y_classify,y_labels,y_train_gen, model_generator, model_discriminators, generator_loss, discriminator_loss,discriminator_optimizers,generator_optimizer)\n",
    "            \n",
    "        print(tf.reduce_mean(A),tf.reduce_mean(B))\n",
    "        print(f\"Generator Loss: {gen_loss}, Discriminator Loss: {disc_loss}\")\n",
    "        signals_temp=model_generator.predict([X_autoencoder_compressed[0],X_autoencoder_compressed[1]])\n",
    "        ramp_temp=model_signal_classifier.predict(signals_temp)\n",
    "        print(\"Signal Classifying Accuracy: \",signal_classifying_accuracy(y_autoencoder,ramp_temp))\n",
    "        \n",
    "        gen_losses.append(gen_loss)\n",
    "        disc_losses.append(disc_loss)\n",
    "        if epoch%1==0:\n",
    "            model_generator.save_weights(f\"generator_weights5_epochs_{epoch}.weights.h5\")\n",
    "            np.save(f\"generator_omegas5_ce1_epochs_{epoch}.npy\",model_generator.osc3.omegas.numpy())\n",
    "            np.save( f\"generator_omegas5_ce2_epochs_{epoch}.npy\",model_generator.osc4.omegas.numpy())\n",
    "            for i in range(7):\n",
    "                model_discriminators[i].save_weights(f\"discriminator_weights5_ce1_epochs_{epoch}_{i}.weights.h5\")\n",
    "                np.save(f\"discriminator_omegas5_ce1_epochs_{epoch}_{i}.npy\",model_discriminators[i].osc1.omegas.numpy())\n",
    "                np.save(f\"discriminator_omegas5_ce2_epochs_{epoch}_{i}.npy\",model_discriminators[i].osc2.omegas.numpy())\n",
    "    print(gen_losses)\n",
    "    print(disc_losses)\n",
    "\n"
   ]
  },
  {
   "cell_type": "code",
   "execution_count": null,
   "metadata": {},
   "outputs": [],
   "source": [
    "\n",
    "# Create dummy dataset for example purposes\n",
    "#dataset = tf.data.Dataset.from_tensor_slices((X_train/255, y_train1,y_train_classify/8)).batch(100)\n",
    "#buffer_size = len(X_train)  # Set buffer size to the length of your training data\n",
    "#dataset = tf.data.Dataset.from_tensor_slices((X_train_compressed, y_train_all, y_train_classify_ce,y_train_labels))\n",
    "\n",
    "dataset = tf.data.Dataset.from_tensor_slices((X_train_compressed[0],X_train_compressed[1], y_train_all, y_train_classify_ce,y_train_labels))\n",
    "shuffled_dataset = dataset.shuffle(40000).batch(250)\n",
    "#shuffled_dataset1 = dataset.shuffle(40000).batch(250)\n",
    "#shuffled_dataset2 = dataset.shuffle(40000).batch(250)\n",
    "#shuffled_dataset3 = dataset.shuffle(40000).batch(250)\n",
    "#shuffled_dataset4 = dataset.shuffle(40000).batch(250)\n",
    "#shuffled_dataset5 = dataset.shuffle(40000).batch(250)\n",
    "#shuffled_datasets=[shuffled_dataset,shuffled_dataset1,shuffled_dataset2,shuffled_dataset3,shuffled_dataset4,shuffled_dataset5]\n",
    "# Train the model\n"
   ]
  },
  {
   "cell_type": "code",
   "execution_count": 107,
   "metadata": {},
   "outputs": [],
   "source": [
    "model_discriminators=[model_discriminator1,model_discriminator2,model_discriminator3,model_discriminator4,model_discriminator5,model_discriminator6,model_discriminator7]#,model_discriminator8,model_discriminator9]"
   ]
  },
  {
   "cell_type": "code",
   "execution_count": 112,
   "metadata": {},
   "outputs": [
    {
     "data": {
      "text/plain": [
       "'for i in range(5):\\n    model_discriminators[i].save_weights(f\"discriminator_weights_ce1_{i}.weights.h5\")\\n    np.save(f\"discriminator_omegas1_ce1_{i}.npy\",model_discriminators[i].osc1.omegas.numpy())\\n    #np.save(f\"discriminator_omegas2_ce1_{i}.npy\",model_discriminators[i].osc2.omegas.numpy())'"
      ]
     },
     "execution_count": 112,
     "metadata": {},
     "output_type": "execute_result"
    }
   ],
   "source": [
    "epoch=1\n",
    "model_generator.load_weights(f\"generator_weights5_epochs_{epoch}.weights.h5\")\n",
    "model_generator.osc3.omegas=tf.Variable(np.load(f\"generator_omegas5_ce1_epochs_{epoch}.npy\"))\n",
    "model_generator.osc4.omegas=tf.Variable(np.load(f\"generator_omegas5_ce2_epochs_{epoch}.npy\"))\n",
    "for i in range(7):\n",
    "    model_discriminators[i].load_weights(f\"discriminator_weights5_ce1_epochs_{epoch}_{i}.weights.h5\")\n",
    "    model_discriminators[i].osc1.omegas=tf.Variable(np.load(f\"discriminator_omegas5_ce1_epochs_{epoch}_{i}.npy\"))\n",
    "    model_discriminators[i].osc2.omegas=tf.Variable(np.load(f\"discriminator_omegas5_ce2_epochs_{epoch}_{i}.npy\"))\n",
    "\n",
    "\n",
    "\"\"\"model_generator.load_weights(f\"generator_weights5_ce.weights.h5\")\n",
    "model_generator.osc3.omegas=tf.Variable(np.load(f\"generator_omegas1_ce5.npy\"))\n",
    "model_generator.osc4.omegas=tf.Variable(np.load(f\"generator_omegas2_ce5.npy\"))\n",
    "for i in range(7):\n",
    "    model_discriminators[i].load_weights(f\"discriminator_weights_ce5_{i}.weights.h5\")\n",
    "    model_discriminators[i].osc1.omegas=tf.Variable(np.load(f\"discriminator_omegas5_ce1_{i}.npy\"))\n",
    "    model_discriminators[i].osc2.omegas=tf.Variable(np.load(f\"discriminator_omegas25_ce1_{i}.npy\"))\n",
    "\"\"\"\n",
    "\n",
    "\n",
    "\"\"\"model_generator.save_weights()\n",
    "            np.save(,model_generator.osc3.omegas.numpy())\n",
    "            np.save( ,model_generator.osc4.omegas.numpy())\n",
    "            for i in range(5):\n",
    "                model_discriminators[i].save_weights()\n",
    "                np.save(,model_discriminators[i].osc1.omegas.numpy())\n",
    "                np.save(,model_discriminators[i].osc2.omegas.numpy())\n",
    "\"\"\"\n",
    "\"\"\"for i in range(5):\n",
    "    model_discriminators[i].save_weights(f\"discriminator_weights_ce1_{i}.weights.h5\")\n",
    "    np.save(f\"discriminator_omegas1_ce1_{i}.npy\",model_discriminators[i].osc1.omegas.numpy())\n",
    "    #np.save(f\"discriminator_omegas2_ce1_{i}.npy\",model_discriminators[i].osc2.omegas.numpy())\"\"\"\n",
    "#model_discriminator.save_weights(\"discriminator_weights_ce1.weights.h5\")\n",
    "#np.save(\"discriminator_omegas1_ce1.npy\",model_discriminator.osc1.omegas.numpy())\n"
   ]
  },
  {
   "cell_type": "code",
   "execution_count": 63,
   "metadata": {},
   "outputs": [
    {
     "name": "stdout",
     "output_type": "stream",
     "text": [
      "Epoch 1/6\n",
      "tf.Tensor(0.0716848, shape=(), dtype=float32) tf.Tensor(0.010159, shape=(), dtype=float32)\n",
      "Generator Loss: 0.07857416570186615, Discriminator Loss: [<tf.Tensor: shape=(), dtype=float32, numpy=0.08235384523868561>, <tf.Tensor: shape=(), dtype=float32, numpy=0.08335669338703156>, <tf.Tensor: shape=(), dtype=float32, numpy=0.08457192778587341>, <tf.Tensor: shape=(), dtype=float32, numpy=0.08499796688556671>, <tf.Tensor: shape=(), dtype=float32, numpy=0.08366500586271286>, <tf.Tensor: shape=(), dtype=float32, numpy=0.08323443681001663>, <tf.Tensor: shape=(), dtype=float32, numpy=0.08464471250772476>]\n",
      "\u001b[1m7/7\u001b[0m \u001b[32m━━━━━━━━━━━━━━━━━━━━\u001b[0m\u001b[37m\u001b[0m \u001b[1m0s\u001b[0m 16ms/step\n",
      "\u001b[1m7/7\u001b[0m \u001b[32m━━━━━━━━━━━━━━━━━━━━\u001b[0m\u001b[37m\u001b[0m \u001b[1m0s\u001b[0m 17ms/step\n",
      "Signal Classifying Accuracy:  0.69\n",
      "Epoch 2/6\n",
      "tf.Tensor(0.07064722, shape=(), dtype=float32) tf.Tensor(0.010825551, shape=(), dtype=float32)\n",
      "Generator Loss: 0.07806474715471268, Discriminator Loss: [<tf.Tensor: shape=(), dtype=float32, numpy=0.08472104370594025>, <tf.Tensor: shape=(), dtype=float32, numpy=0.08370284736156464>, <tf.Tensor: shape=(), dtype=float32, numpy=0.08599752932786942>, <tf.Tensor: shape=(), dtype=float32, numpy=0.08596857637166977>, <tf.Tensor: shape=(), dtype=float32, numpy=0.08541006594896317>, <tf.Tensor: shape=(), dtype=float32, numpy=0.08364483714103699>, <tf.Tensor: shape=(), dtype=float32, numpy=0.08320122957229614>]\n",
      "\u001b[1m7/7\u001b[0m \u001b[32m━━━━━━━━━━━━━━━━━━━━\u001b[0m\u001b[37m\u001b[0m \u001b[1m0s\u001b[0m 15ms/step\n",
      "\u001b[1m7/7\u001b[0m \u001b[32m━━━━━━━━━━━━━━━━━━━━\u001b[0m\u001b[37m\u001b[0m \u001b[1m0s\u001b[0m 16ms/step\n",
      "Signal Classifying Accuracy:  0.75\n",
      "Epoch 3/6\n",
      "tf.Tensor(0.07195427, shape=(), dtype=float32) tf.Tensor(0.010800226, shape=(), dtype=float32)\n",
      "Generator Loss: 0.0879010334610939, Discriminator Loss: [<tf.Tensor: shape=(), dtype=float32, numpy=0.08300446718931198>, <tf.Tensor: shape=(), dtype=float32, numpy=0.0828707367181778>, <tf.Tensor: shape=(), dtype=float32, numpy=0.08439143002033234>, <tf.Tensor: shape=(), dtype=float32, numpy=0.0842973068356514>, <tf.Tensor: shape=(), dtype=float32, numpy=0.082036592066288>, <tf.Tensor: shape=(), dtype=float32, numpy=0.08331715315580368>, <tf.Tensor: shape=(), dtype=float32, numpy=0.08479621261358261>]\n",
      "\u001b[1m7/7\u001b[0m \u001b[32m━━━━━━━━━━━━━━━━━━━━\u001b[0m\u001b[37m\u001b[0m \u001b[1m0s\u001b[0m 28ms/step\n",
      "\u001b[1m7/7\u001b[0m \u001b[32m━━━━━━━━━━━━━━━━━━━━\u001b[0m\u001b[37m\u001b[0m \u001b[1m0s\u001b[0m 28ms/step\n",
      "Signal Classifying Accuracy:  0.705\n",
      "Epoch 4/6\n"
     ]
    },
    {
     "ename": "KeyboardInterrupt",
     "evalue": "",
     "output_type": "error",
     "traceback": [
      "\u001b[1;31m---------------------------------------------------------------------------\u001b[0m",
      "\u001b[1;31mKeyboardInterrupt\u001b[0m                         Traceback (most recent call last)",
      "Cell \u001b[1;32mIn[63], line 1\u001b[0m\n\u001b[1;32m----> 1\u001b[0m \u001b[43mtrain\u001b[49m\u001b[43m(\u001b[49m\u001b[43mshuffled_dataset\u001b[49m\u001b[43m,\u001b[49m\u001b[43my_train_gen\u001b[49m\u001b[43m,\u001b[49m\u001b[43m \u001b[49m\u001b[43mepochs\u001b[49m\u001b[38;5;241;43m=\u001b[39;49m\u001b[38;5;241;43m6\u001b[39;49m\u001b[43m,\u001b[49m\u001b[43m \u001b[49m\u001b[43mmodel_generator\u001b[49m\u001b[38;5;241;43m=\u001b[39;49m\u001b[43mmodel_generator\u001b[49m\u001b[43m,\u001b[49m\u001b[43m \u001b[49m\u001b[43mmodel_discriminators\u001b[49m\u001b[38;5;241;43m=\u001b[39;49m\u001b[43mmodel_discriminators\u001b[49m\u001b[43m,\u001b[49m\u001b[43m \u001b[49m\u001b[43mgenerator_loss\u001b[49m\u001b[38;5;241;43m=\u001b[39;49m\u001b[43mgenerator_loss_ramp1\u001b[49m\u001b[43m,\u001b[49m\u001b[43m \u001b[49m\u001b[43mdiscriminator_loss\u001b[49m\u001b[38;5;241;43m=\u001b[39;49m\u001b[43mdiscriminator_loss_ramp\u001b[49m\u001b[43m)\u001b[49m\n",
      "Cell \u001b[1;32mIn[56], line 16\u001b[0m, in \u001b[0;36mtrain\u001b[1;34m(dataset, y_train_gen, epochs, model_generator, model_discriminators, generator_loss, discriminator_loss)\u001b[0m\n\u001b[0;32m     14\u001b[0m \u001b[38;5;28;01mfor\u001b[39;00m X_img1,X_img2, y_eeg, y_classify,y_labels \u001b[38;5;129;01min\u001b[39;00m dataset:\n\u001b[0;32m     15\u001b[0m     X_img\u001b[38;5;241m=\u001b[39m[X_img1,X_img2]\n\u001b[1;32m---> 16\u001b[0m     A,B,gen_loss, disc_loss \u001b[38;5;241m=\u001b[39m \u001b[43mtrain_step\u001b[49m\u001b[43m(\u001b[49m\u001b[43mdataset\u001b[49m\u001b[43m,\u001b[49m\u001b[43mX_img\u001b[49m\u001b[43m,\u001b[49m\u001b[43m \u001b[49m\u001b[43my_eeg\u001b[49m\u001b[43m,\u001b[49m\u001b[43m \u001b[49m\u001b[43my_classify\u001b[49m\u001b[43m,\u001b[49m\u001b[43my_labels\u001b[49m\u001b[43m,\u001b[49m\u001b[43my_train_gen\u001b[49m\u001b[43m,\u001b[49m\u001b[43m \u001b[49m\u001b[43mmodel_generator\u001b[49m\u001b[43m,\u001b[49m\u001b[43m \u001b[49m\u001b[43mmodel_discriminators\u001b[49m\u001b[43m,\u001b[49m\u001b[43m \u001b[49m\u001b[43mgenerator_loss\u001b[49m\u001b[43m,\u001b[49m\u001b[43m \u001b[49m\u001b[43mdiscriminator_loss\u001b[49m\u001b[43m,\u001b[49m\u001b[43mdiscriminator_optimizers\u001b[49m\u001b[43m,\u001b[49m\u001b[43mgenerator_optimizer\u001b[49m\u001b[43m)\u001b[49m\n\u001b[0;32m     18\u001b[0m \u001b[38;5;28mprint\u001b[39m(tf\u001b[38;5;241m.\u001b[39mreduce_mean(A),tf\u001b[38;5;241m.\u001b[39mreduce_mean(B))\n\u001b[0;32m     19\u001b[0m \u001b[38;5;28mprint\u001b[39m(\u001b[38;5;124mf\u001b[39m\u001b[38;5;124m\"\u001b[39m\u001b[38;5;124mGenerator Loss: \u001b[39m\u001b[38;5;132;01m{\u001b[39;00mgen_loss\u001b[38;5;132;01m}\u001b[39;00m\u001b[38;5;124m, Discriminator Loss: \u001b[39m\u001b[38;5;132;01m{\u001b[39;00mdisc_loss\u001b[38;5;132;01m}\u001b[39;00m\u001b[38;5;124m\"\u001b[39m)\n",
      "File \u001b[1;32mc:\\Users\\Admin\\AppData\\Local\\Programs\\Python\\Python312\\Lib\\site-packages\\tensorflow\\python\\util\\traceback_utils.py:150\u001b[0m, in \u001b[0;36mfilter_traceback.<locals>.error_handler\u001b[1;34m(*args, **kwargs)\u001b[0m\n\u001b[0;32m    148\u001b[0m filtered_tb \u001b[38;5;241m=\u001b[39m \u001b[38;5;28;01mNone\u001b[39;00m\n\u001b[0;32m    149\u001b[0m \u001b[38;5;28;01mtry\u001b[39;00m:\n\u001b[1;32m--> 150\u001b[0m   \u001b[38;5;28;01mreturn\u001b[39;00m \u001b[43mfn\u001b[49m\u001b[43m(\u001b[49m\u001b[38;5;241;43m*\u001b[39;49m\u001b[43margs\u001b[49m\u001b[43m,\u001b[49m\u001b[43m \u001b[49m\u001b[38;5;241;43m*\u001b[39;49m\u001b[38;5;241;43m*\u001b[39;49m\u001b[43mkwargs\u001b[49m\u001b[43m)\u001b[49m\n\u001b[0;32m    151\u001b[0m \u001b[38;5;28;01mexcept\u001b[39;00m \u001b[38;5;167;01mException\u001b[39;00m \u001b[38;5;28;01mas\u001b[39;00m e:\n\u001b[0;32m    152\u001b[0m   filtered_tb \u001b[38;5;241m=\u001b[39m _process_traceback_frames(e\u001b[38;5;241m.\u001b[39m__traceback__)\n",
      "File \u001b[1;32mc:\\Users\\Admin\\AppData\\Local\\Programs\\Python\\Python312\\Lib\\site-packages\\tensorflow\\python\\eager\\polymorphic_function\\polymorphic_function.py:833\u001b[0m, in \u001b[0;36mFunction.__call__\u001b[1;34m(self, *args, **kwds)\u001b[0m\n\u001b[0;32m    830\u001b[0m compiler \u001b[38;5;241m=\u001b[39m \u001b[38;5;124m\"\u001b[39m\u001b[38;5;124mxla\u001b[39m\u001b[38;5;124m\"\u001b[39m \u001b[38;5;28;01mif\u001b[39;00m \u001b[38;5;28mself\u001b[39m\u001b[38;5;241m.\u001b[39m_jit_compile \u001b[38;5;28;01melse\u001b[39;00m \u001b[38;5;124m\"\u001b[39m\u001b[38;5;124mnonXla\u001b[39m\u001b[38;5;124m\"\u001b[39m\n\u001b[0;32m    832\u001b[0m \u001b[38;5;28;01mwith\u001b[39;00m OptionalXlaContext(\u001b[38;5;28mself\u001b[39m\u001b[38;5;241m.\u001b[39m_jit_compile):\n\u001b[1;32m--> 833\u001b[0m   result \u001b[38;5;241m=\u001b[39m \u001b[38;5;28;43mself\u001b[39;49m\u001b[38;5;241;43m.\u001b[39;49m\u001b[43m_call\u001b[49m\u001b[43m(\u001b[49m\u001b[38;5;241;43m*\u001b[39;49m\u001b[43margs\u001b[49m\u001b[43m,\u001b[49m\u001b[43m \u001b[49m\u001b[38;5;241;43m*\u001b[39;49m\u001b[38;5;241;43m*\u001b[39;49m\u001b[43mkwds\u001b[49m\u001b[43m)\u001b[49m\n\u001b[0;32m    835\u001b[0m new_tracing_count \u001b[38;5;241m=\u001b[39m \u001b[38;5;28mself\u001b[39m\u001b[38;5;241m.\u001b[39mexperimental_get_tracing_count()\n\u001b[0;32m    836\u001b[0m without_tracing \u001b[38;5;241m=\u001b[39m (tracing_count \u001b[38;5;241m==\u001b[39m new_tracing_count)\n",
      "File \u001b[1;32mc:\\Users\\Admin\\AppData\\Local\\Programs\\Python\\Python312\\Lib\\site-packages\\tensorflow\\python\\eager\\polymorphic_function\\polymorphic_function.py:869\u001b[0m, in \u001b[0;36mFunction._call\u001b[1;34m(self, *args, **kwds)\u001b[0m\n\u001b[0;32m    866\u001b[0m   \u001b[38;5;28mself\u001b[39m\u001b[38;5;241m.\u001b[39m_lock\u001b[38;5;241m.\u001b[39mrelease()\n\u001b[0;32m    867\u001b[0m   \u001b[38;5;66;03m# In this case we have created variables on the first call, so we run the\u001b[39;00m\n\u001b[0;32m    868\u001b[0m   \u001b[38;5;66;03m# defunned version which is guaranteed to never create variables.\u001b[39;00m\n\u001b[1;32m--> 869\u001b[0m   \u001b[38;5;28;01mreturn\u001b[39;00m \u001b[43mtracing_compilation\u001b[49m\u001b[38;5;241;43m.\u001b[39;49m\u001b[43mcall_function\u001b[49m\u001b[43m(\u001b[49m\n\u001b[0;32m    870\u001b[0m \u001b[43m      \u001b[49m\u001b[43margs\u001b[49m\u001b[43m,\u001b[49m\u001b[43m \u001b[49m\u001b[43mkwds\u001b[49m\u001b[43m,\u001b[49m\u001b[43m \u001b[49m\u001b[38;5;28;43mself\u001b[39;49m\u001b[38;5;241;43m.\u001b[39;49m\u001b[43m_no_variable_creation_config\u001b[49m\n\u001b[0;32m    871\u001b[0m \u001b[43m  \u001b[49m\u001b[43m)\u001b[49m\n\u001b[0;32m    872\u001b[0m \u001b[38;5;28;01melif\u001b[39;00m \u001b[38;5;28mself\u001b[39m\u001b[38;5;241m.\u001b[39m_variable_creation_config \u001b[38;5;129;01mis\u001b[39;00m \u001b[38;5;129;01mnot\u001b[39;00m \u001b[38;5;28;01mNone\u001b[39;00m:\n\u001b[0;32m    873\u001b[0m   \u001b[38;5;66;03m# Release the lock early so that multiple threads can perform the call\u001b[39;00m\n\u001b[0;32m    874\u001b[0m   \u001b[38;5;66;03m# in parallel.\u001b[39;00m\n\u001b[0;32m    875\u001b[0m   \u001b[38;5;28mself\u001b[39m\u001b[38;5;241m.\u001b[39m_lock\u001b[38;5;241m.\u001b[39mrelease()\n",
      "File \u001b[1;32mc:\\Users\\Admin\\AppData\\Local\\Programs\\Python\\Python312\\Lib\\site-packages\\tensorflow\\python\\eager\\polymorphic_function\\tracing_compilation.py:139\u001b[0m, in \u001b[0;36mcall_function\u001b[1;34m(args, kwargs, tracing_options)\u001b[0m\n\u001b[0;32m    137\u001b[0m bound_args \u001b[38;5;241m=\u001b[39m function\u001b[38;5;241m.\u001b[39mfunction_type\u001b[38;5;241m.\u001b[39mbind(\u001b[38;5;241m*\u001b[39margs, \u001b[38;5;241m*\u001b[39m\u001b[38;5;241m*\u001b[39mkwargs)\n\u001b[0;32m    138\u001b[0m flat_inputs \u001b[38;5;241m=\u001b[39m function\u001b[38;5;241m.\u001b[39mfunction_type\u001b[38;5;241m.\u001b[39munpack_inputs(bound_args)\n\u001b[1;32m--> 139\u001b[0m \u001b[38;5;28;01mreturn\u001b[39;00m \u001b[43mfunction\u001b[49m\u001b[38;5;241;43m.\u001b[39;49m\u001b[43m_call_flat\u001b[49m\u001b[43m(\u001b[49m\u001b[43m  \u001b[49m\u001b[38;5;66;43;03m# pylint: disable=protected-access\u001b[39;49;00m\n\u001b[0;32m    140\u001b[0m \u001b[43m    \u001b[49m\u001b[43mflat_inputs\u001b[49m\u001b[43m,\u001b[49m\u001b[43m \u001b[49m\u001b[43mcaptured_inputs\u001b[49m\u001b[38;5;241;43m=\u001b[39;49m\u001b[43mfunction\u001b[49m\u001b[38;5;241;43m.\u001b[39;49m\u001b[43mcaptured_inputs\u001b[49m\n\u001b[0;32m    141\u001b[0m \u001b[43m\u001b[49m\u001b[43m)\u001b[49m\n",
      "File \u001b[1;32mc:\\Users\\Admin\\AppData\\Local\\Programs\\Python\\Python312\\Lib\\site-packages\\tensorflow\\python\\eager\\polymorphic_function\\concrete_function.py:1322\u001b[0m, in \u001b[0;36mConcreteFunction._call_flat\u001b[1;34m(self, tensor_inputs, captured_inputs)\u001b[0m\n\u001b[0;32m   1318\u001b[0m possible_gradient_type \u001b[38;5;241m=\u001b[39m gradients_util\u001b[38;5;241m.\u001b[39mPossibleTapeGradientTypes(args)\n\u001b[0;32m   1319\u001b[0m \u001b[38;5;28;01mif\u001b[39;00m (possible_gradient_type \u001b[38;5;241m==\u001b[39m gradients_util\u001b[38;5;241m.\u001b[39mPOSSIBLE_GRADIENT_TYPES_NONE\n\u001b[0;32m   1320\u001b[0m     \u001b[38;5;129;01mand\u001b[39;00m executing_eagerly):\n\u001b[0;32m   1321\u001b[0m   \u001b[38;5;66;03m# No tape is watching; skip to running the function.\u001b[39;00m\n\u001b[1;32m-> 1322\u001b[0m   \u001b[38;5;28;01mreturn\u001b[39;00m \u001b[38;5;28;43mself\u001b[39;49m\u001b[38;5;241;43m.\u001b[39;49m\u001b[43m_inference_function\u001b[49m\u001b[38;5;241;43m.\u001b[39;49m\u001b[43mcall_preflattened\u001b[49m\u001b[43m(\u001b[49m\u001b[43margs\u001b[49m\u001b[43m)\u001b[49m\n\u001b[0;32m   1323\u001b[0m forward_backward \u001b[38;5;241m=\u001b[39m \u001b[38;5;28mself\u001b[39m\u001b[38;5;241m.\u001b[39m_select_forward_and_backward_functions(\n\u001b[0;32m   1324\u001b[0m     args,\n\u001b[0;32m   1325\u001b[0m     possible_gradient_type,\n\u001b[0;32m   1326\u001b[0m     executing_eagerly)\n\u001b[0;32m   1327\u001b[0m forward_function, args_with_tangents \u001b[38;5;241m=\u001b[39m forward_backward\u001b[38;5;241m.\u001b[39mforward()\n",
      "File \u001b[1;32mc:\\Users\\Admin\\AppData\\Local\\Programs\\Python\\Python312\\Lib\\site-packages\\tensorflow\\python\\eager\\polymorphic_function\\atomic_function.py:216\u001b[0m, in \u001b[0;36mAtomicFunction.call_preflattened\u001b[1;34m(self, args)\u001b[0m\n\u001b[0;32m    214\u001b[0m \u001b[38;5;28;01mdef\u001b[39;00m \u001b[38;5;21mcall_preflattened\u001b[39m(\u001b[38;5;28mself\u001b[39m, args: Sequence[core\u001b[38;5;241m.\u001b[39mTensor]) \u001b[38;5;241m-\u001b[39m\u001b[38;5;241m>\u001b[39m Any:\n\u001b[0;32m    215\u001b[0m \u001b[38;5;250m  \u001b[39m\u001b[38;5;124;03m\"\"\"Calls with flattened tensor inputs and returns the structured output.\"\"\"\u001b[39;00m\n\u001b[1;32m--> 216\u001b[0m   flat_outputs \u001b[38;5;241m=\u001b[39m \u001b[38;5;28;43mself\u001b[39;49m\u001b[38;5;241;43m.\u001b[39;49m\u001b[43mcall_flat\u001b[49m\u001b[43m(\u001b[49m\u001b[38;5;241;43m*\u001b[39;49m\u001b[43margs\u001b[49m\u001b[43m)\u001b[49m\n\u001b[0;32m    217\u001b[0m   \u001b[38;5;28;01mreturn\u001b[39;00m \u001b[38;5;28mself\u001b[39m\u001b[38;5;241m.\u001b[39mfunction_type\u001b[38;5;241m.\u001b[39mpack_output(flat_outputs)\n",
      "File \u001b[1;32mc:\\Users\\Admin\\AppData\\Local\\Programs\\Python\\Python312\\Lib\\site-packages\\tensorflow\\python\\eager\\polymorphic_function\\atomic_function.py:251\u001b[0m, in \u001b[0;36mAtomicFunction.call_flat\u001b[1;34m(self, *args)\u001b[0m\n\u001b[0;32m    249\u001b[0m \u001b[38;5;28;01mwith\u001b[39;00m record\u001b[38;5;241m.\u001b[39mstop_recording():\n\u001b[0;32m    250\u001b[0m   \u001b[38;5;28;01mif\u001b[39;00m \u001b[38;5;28mself\u001b[39m\u001b[38;5;241m.\u001b[39m_bound_context\u001b[38;5;241m.\u001b[39mexecuting_eagerly():\n\u001b[1;32m--> 251\u001b[0m     outputs \u001b[38;5;241m=\u001b[39m \u001b[38;5;28;43mself\u001b[39;49m\u001b[38;5;241;43m.\u001b[39;49m\u001b[43m_bound_context\u001b[49m\u001b[38;5;241;43m.\u001b[39;49m\u001b[43mcall_function\u001b[49m\u001b[43m(\u001b[49m\n\u001b[0;32m    252\u001b[0m \u001b[43m        \u001b[49m\u001b[38;5;28;43mself\u001b[39;49m\u001b[38;5;241;43m.\u001b[39;49m\u001b[43mname\u001b[49m\u001b[43m,\u001b[49m\n\u001b[0;32m    253\u001b[0m \u001b[43m        \u001b[49m\u001b[38;5;28;43mlist\u001b[39;49m\u001b[43m(\u001b[49m\u001b[43margs\u001b[49m\u001b[43m)\u001b[49m\u001b[43m,\u001b[49m\n\u001b[0;32m    254\u001b[0m \u001b[43m        \u001b[49m\u001b[38;5;28;43mlen\u001b[39;49m\u001b[43m(\u001b[49m\u001b[38;5;28;43mself\u001b[39;49m\u001b[38;5;241;43m.\u001b[39;49m\u001b[43mfunction_type\u001b[49m\u001b[38;5;241;43m.\u001b[39;49m\u001b[43mflat_outputs\u001b[49m\u001b[43m)\u001b[49m\u001b[43m,\u001b[49m\n\u001b[0;32m    255\u001b[0m \u001b[43m    \u001b[49m\u001b[43m)\u001b[49m\n\u001b[0;32m    256\u001b[0m   \u001b[38;5;28;01melse\u001b[39;00m:\n\u001b[0;32m    257\u001b[0m     outputs \u001b[38;5;241m=\u001b[39m make_call_op_in_graph(\n\u001b[0;32m    258\u001b[0m         \u001b[38;5;28mself\u001b[39m,\n\u001b[0;32m    259\u001b[0m         \u001b[38;5;28mlist\u001b[39m(args),\n\u001b[0;32m    260\u001b[0m         \u001b[38;5;28mself\u001b[39m\u001b[38;5;241m.\u001b[39m_bound_context\u001b[38;5;241m.\u001b[39mfunction_call_options\u001b[38;5;241m.\u001b[39mas_attrs(),\n\u001b[0;32m    261\u001b[0m     )\n",
      "File \u001b[1;32mc:\\Users\\Admin\\AppData\\Local\\Programs\\Python\\Python312\\Lib\\site-packages\\tensorflow\\python\\eager\\context.py:1683\u001b[0m, in \u001b[0;36mContext.call_function\u001b[1;34m(self, name, tensor_inputs, num_outputs)\u001b[0m\n\u001b[0;32m   1681\u001b[0m cancellation_context \u001b[38;5;241m=\u001b[39m cancellation\u001b[38;5;241m.\u001b[39mcontext()\n\u001b[0;32m   1682\u001b[0m \u001b[38;5;28;01mif\u001b[39;00m cancellation_context \u001b[38;5;129;01mis\u001b[39;00m \u001b[38;5;28;01mNone\u001b[39;00m:\n\u001b[1;32m-> 1683\u001b[0m   outputs \u001b[38;5;241m=\u001b[39m \u001b[43mexecute\u001b[49m\u001b[38;5;241;43m.\u001b[39;49m\u001b[43mexecute\u001b[49m\u001b[43m(\u001b[49m\n\u001b[0;32m   1684\u001b[0m \u001b[43m      \u001b[49m\u001b[43mname\u001b[49m\u001b[38;5;241;43m.\u001b[39;49m\u001b[43mdecode\u001b[49m\u001b[43m(\u001b[49m\u001b[38;5;124;43m\"\u001b[39;49m\u001b[38;5;124;43mutf-8\u001b[39;49m\u001b[38;5;124;43m\"\u001b[39;49m\u001b[43m)\u001b[49m\u001b[43m,\u001b[49m\n\u001b[0;32m   1685\u001b[0m \u001b[43m      \u001b[49m\u001b[43mnum_outputs\u001b[49m\u001b[38;5;241;43m=\u001b[39;49m\u001b[43mnum_outputs\u001b[49m\u001b[43m,\u001b[49m\n\u001b[0;32m   1686\u001b[0m \u001b[43m      \u001b[49m\u001b[43minputs\u001b[49m\u001b[38;5;241;43m=\u001b[39;49m\u001b[43mtensor_inputs\u001b[49m\u001b[43m,\u001b[49m\n\u001b[0;32m   1687\u001b[0m \u001b[43m      \u001b[49m\u001b[43mattrs\u001b[49m\u001b[38;5;241;43m=\u001b[39;49m\u001b[43mattrs\u001b[49m\u001b[43m,\u001b[49m\n\u001b[0;32m   1688\u001b[0m \u001b[43m      \u001b[49m\u001b[43mctx\u001b[49m\u001b[38;5;241;43m=\u001b[39;49m\u001b[38;5;28;43mself\u001b[39;49m\u001b[43m,\u001b[49m\n\u001b[0;32m   1689\u001b[0m \u001b[43m  \u001b[49m\u001b[43m)\u001b[49m\n\u001b[0;32m   1690\u001b[0m \u001b[38;5;28;01melse\u001b[39;00m:\n\u001b[0;32m   1691\u001b[0m   outputs \u001b[38;5;241m=\u001b[39m execute\u001b[38;5;241m.\u001b[39mexecute_with_cancellation(\n\u001b[0;32m   1692\u001b[0m       name\u001b[38;5;241m.\u001b[39mdecode(\u001b[38;5;124m\"\u001b[39m\u001b[38;5;124mutf-8\u001b[39m\u001b[38;5;124m\"\u001b[39m),\n\u001b[0;32m   1693\u001b[0m       num_outputs\u001b[38;5;241m=\u001b[39mnum_outputs,\n\u001b[1;32m   (...)\u001b[0m\n\u001b[0;32m   1697\u001b[0m       cancellation_manager\u001b[38;5;241m=\u001b[39mcancellation_context,\n\u001b[0;32m   1698\u001b[0m   )\n",
      "File \u001b[1;32mc:\\Users\\Admin\\AppData\\Local\\Programs\\Python\\Python312\\Lib\\site-packages\\tensorflow\\python\\eager\\execute.py:53\u001b[0m, in \u001b[0;36mquick_execute\u001b[1;34m(op_name, num_outputs, inputs, attrs, ctx, name)\u001b[0m\n\u001b[0;32m     51\u001b[0m \u001b[38;5;28;01mtry\u001b[39;00m:\n\u001b[0;32m     52\u001b[0m   ctx\u001b[38;5;241m.\u001b[39mensure_initialized()\n\u001b[1;32m---> 53\u001b[0m   tensors \u001b[38;5;241m=\u001b[39m \u001b[43mpywrap_tfe\u001b[49m\u001b[38;5;241;43m.\u001b[39;49m\u001b[43mTFE_Py_Execute\u001b[49m\u001b[43m(\u001b[49m\u001b[43mctx\u001b[49m\u001b[38;5;241;43m.\u001b[39;49m\u001b[43m_handle\u001b[49m\u001b[43m,\u001b[49m\u001b[43m \u001b[49m\u001b[43mdevice_name\u001b[49m\u001b[43m,\u001b[49m\u001b[43m \u001b[49m\u001b[43mop_name\u001b[49m\u001b[43m,\u001b[49m\n\u001b[0;32m     54\u001b[0m \u001b[43m                                      \u001b[49m\u001b[43minputs\u001b[49m\u001b[43m,\u001b[49m\u001b[43m \u001b[49m\u001b[43mattrs\u001b[49m\u001b[43m,\u001b[49m\u001b[43m \u001b[49m\u001b[43mnum_outputs\u001b[49m\u001b[43m)\u001b[49m\n\u001b[0;32m     55\u001b[0m \u001b[38;5;28;01mexcept\u001b[39;00m core\u001b[38;5;241m.\u001b[39m_NotOkStatusException \u001b[38;5;28;01mas\u001b[39;00m e:\n\u001b[0;32m     56\u001b[0m   \u001b[38;5;28;01mif\u001b[39;00m name \u001b[38;5;129;01mis\u001b[39;00m \u001b[38;5;129;01mnot\u001b[39;00m \u001b[38;5;28;01mNone\u001b[39;00m:\n",
      "\u001b[1;31mKeyboardInterrupt\u001b[0m: "
     ]
    }
   ],
   "source": [
    "train(shuffled_dataset,y_train_gen, epochs=6, model_generator=model_generator, model_discriminators=model_discriminators, generator_loss=generator_loss_ramp1, discriminator_loss=discriminator_loss_ramp)\n",
    " "
   ]
  },
  {
   "cell_type": "code",
   "execution_count": 60,
   "metadata": {},
   "outputs": [],
   "source": [
    "model_generator.save_weights(\"generator_weights5_ce.weights.h5\")\n",
    "np.save(\"generator_omegas1_ce5.npy\",model_generator.osc3.omegas.numpy())\n",
    "np.save( \"generator_omegas2_ce5.npy\",model_generator.osc4.omegas.numpy())\n",
    "for i in range(7):\n",
    "    model_discriminators[i].save_weights(f\"discriminator_weights_ce5_{i}.weights.h5\")\n",
    "    np.save(f\"discriminator_omegas5_ce1_{i}.npy\",model_discriminators[i].osc1.omegas.numpy())\n",
    "    np.save(f\"discriminator_omegas25_ce1_{i}.npy\",model_discriminators[i].osc2.omegas.numpy())"
   ]
  }
 ],
 "metadata": {
  "kernelspec": {
   "display_name": "Python 3",
   "language": "python",
   "name": "python3"
  },
  "language_info": {
   "codemirror_mode": {
    "name": "ipython",
    "version": 3
   },
   "file_extension": ".py",
   "mimetype": "text/x-python",
   "name": "python",
   "nbconvert_exporter": "python",
   "pygments_lexer": "ipython3",
   "version": "3.12.7"
  }
 },
 "nbformat": 4,
 "nbformat_minor": 2
}
